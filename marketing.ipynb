{
 "cells": [
  {
   "cell_type": "markdown",
   "id": "241cde09-e461-483c-8392-a60dec2df95e",
   "metadata": {},
   "source": [
    "Данное исследование проводится для интернет-магазина с целью подготовки модели машинного обучения, которая будет предсказывать вероятность совершения покупателем покупки в течение 90 дней.\n",
    "\n",
    "Необходимо:\n",
    "- Изучить данные, провести их предобработку (при наличии и по возможности избавиться от выбросов и аномалий, заполнить пропущенные значения, т.д.).\n",
    "- Провести исследовательский анализ.\n",
    "- При необходимости сформировать новые признаки.\n",
    "- Проверить данные на мультиколлинеарность.\n",
    "- Подготовить и обучить модель на имеющихся данных.\n",
    "- Оценить работу модели по метрике качества и максимизировать ее по возможности.\n",
    "\n",
    "В данном проекте будет использоваться метрика ROC-AUC для определения качества работы модели."
   ]
  },
  {
   "cell_type": "code",
   "execution_count": 333,
   "id": "5702c32b-4f92-4a36-ad56-da7910f38267",
   "metadata": {},
   "outputs": [],
   "source": [
    "import pandas as pd\n",
    "import seaborn as sns\n",
    "import matplotlib.pyplot as plt\n",
    "\n",
    "import phik\n",
    "from phik.report import plot_correlation_matrix\n",
    "\n",
    "from catboost import CatBoostClassifier\n",
    "\n",
    "from sklearn.model_selection import train_test_split\n",
    "from sklearn.metrics import roc_auc_score"
   ]
  },
  {
   "cell_type": "markdown",
   "id": "0c4b1f1d-19e1-434c-ac9a-3672f9d899ce",
   "metadata": {},
   "source": [
    "# Подготовка и анализ данных"
   ]
  },
  {
   "cell_type": "markdown",
   "id": "81e8e879-3d32-49af-a2b1-08aaeefdc852",
   "metadata": {},
   "source": [
    "## Загрузка и ознакомление с данными"
   ]
  },
  {
   "cell_type": "markdown",
   "id": "02a8de7b-5808-4272-910a-f82088297b70",
   "metadata": {},
   "source": [
    "Загрузим имеющиеся у нас данные и предварительно рассмотрим их.\n",
    "\n",
    "У нас имеются:\n",
    "- История покупок (apparel-purchases) - содержит данные по дням и по товарам, в каждой записи покупка определенног товара, его цена и количество штук.\n",
    "- История рекламных рассылок (apparel-messages) - содержит данные по рассылкам клиентам из Истории покупок.\n",
    "- Таблица с целевыми значениями (apparel-target_binary)."
   ]
  },
  {
   "cell_type": "code",
   "execution_count": 256,
   "id": "d2a66d56-1988-49ce-8c2f-414c418b0c17",
   "metadata": {},
   "outputs": [],
   "source": [
    "df = pd.read_csv('DS/apparel-purchases.csv')\n",
    "target = pd.read_csv('DS/apparel-target_binary.csv')\n",
    "\n",
    "messages = pd.read_csv('DS/apparel-messages.csv')"
   ]
  },
  {
   "cell_type": "markdown",
   "id": "d7a3040b-2e96-4955-a3d6-976f96cedcdf",
   "metadata": {},
   "source": [
    "### Датасет df"
   ]
  },
  {
   "cell_type": "code",
   "execution_count": 257,
   "id": "516d5828-29b9-4afb-943e-ee0be0fbd75e",
   "metadata": {},
   "outputs": [
    {
     "name": "stdout",
     "output_type": "stream",
     "text": [
      "<class 'pandas.core.frame.DataFrame'>\n",
      "RangeIndex: 202208 entries, 0 to 202207\n",
      "Data columns (total 6 columns):\n",
      " #   Column        Non-Null Count   Dtype  \n",
      "---  ------        --------------   -----  \n",
      " 0   client_id     202208 non-null  int64  \n",
      " 1   quantity      202208 non-null  int64  \n",
      " 2   price         202208 non-null  float64\n",
      " 3   category_ids  202208 non-null  object \n",
      " 4   date          202208 non-null  object \n",
      " 5   message_id    202208 non-null  object \n",
      "dtypes: float64(1), int64(2), object(3)\n",
      "memory usage: 9.3+ MB\n"
     ]
    }
   ],
   "source": [
    "df.info()"
   ]
  },
  {
   "cell_type": "code",
   "execution_count": 258,
   "id": "da6e1527-8bf7-41b2-8055-0105a318e0b1",
   "metadata": {},
   "outputs": [
    {
     "data": {
      "text/html": [
       "<div>\n",
       "<style scoped>\n",
       "    .dataframe tbody tr th:only-of-type {\n",
       "        vertical-align: middle;\n",
       "    }\n",
       "\n",
       "    .dataframe tbody tr th {\n",
       "        vertical-align: top;\n",
       "    }\n",
       "\n",
       "    .dataframe thead th {\n",
       "        text-align: right;\n",
       "    }\n",
       "</style>\n",
       "<table border=\"1\" class=\"dataframe\">\n",
       "  <thead>\n",
       "    <tr style=\"text-align: right;\">\n",
       "      <th></th>\n",
       "      <th>client_id</th>\n",
       "      <th>quantity</th>\n",
       "      <th>price</th>\n",
       "    </tr>\n",
       "  </thead>\n",
       "  <tbody>\n",
       "    <tr>\n",
       "      <th>count</th>\n",
       "      <td>2.022080e+05</td>\n",
       "      <td>202208.000000</td>\n",
       "      <td>202208.000000</td>\n",
       "    </tr>\n",
       "    <tr>\n",
       "      <th>mean</th>\n",
       "      <td>1.515916e+18</td>\n",
       "      <td>1.006483</td>\n",
       "      <td>1193.301516</td>\n",
       "    </tr>\n",
       "    <tr>\n",
       "      <th>std</th>\n",
       "      <td>1.459458e+08</td>\n",
       "      <td>0.184384</td>\n",
       "      <td>1342.252664</td>\n",
       "    </tr>\n",
       "    <tr>\n",
       "      <th>min</th>\n",
       "      <td>1.515916e+18</td>\n",
       "      <td>1.000000</td>\n",
       "      <td>1.000000</td>\n",
       "    </tr>\n",
       "    <tr>\n",
       "      <th>25%</th>\n",
       "      <td>1.515916e+18</td>\n",
       "      <td>1.000000</td>\n",
       "      <td>352.000000</td>\n",
       "    </tr>\n",
       "    <tr>\n",
       "      <th>50%</th>\n",
       "      <td>1.515916e+18</td>\n",
       "      <td>1.000000</td>\n",
       "      <td>987.000000</td>\n",
       "    </tr>\n",
       "    <tr>\n",
       "      <th>75%</th>\n",
       "      <td>1.515916e+18</td>\n",
       "      <td>1.000000</td>\n",
       "      <td>1699.000000</td>\n",
       "    </tr>\n",
       "    <tr>\n",
       "      <th>max</th>\n",
       "      <td>1.515916e+18</td>\n",
       "      <td>30.000000</td>\n",
       "      <td>85499.000000</td>\n",
       "    </tr>\n",
       "  </tbody>\n",
       "</table>\n",
       "</div>"
      ],
      "text/plain": [
       "          client_id       quantity          price\n",
       "count  2.022080e+05  202208.000000  202208.000000\n",
       "mean   1.515916e+18       1.006483    1193.301516\n",
       "std    1.459458e+08       0.184384    1342.252664\n",
       "min    1.515916e+18       1.000000       1.000000\n",
       "25%    1.515916e+18       1.000000     352.000000\n",
       "50%    1.515916e+18       1.000000     987.000000\n",
       "75%    1.515916e+18       1.000000    1699.000000\n",
       "max    1.515916e+18      30.000000   85499.000000"
      ]
     },
     "execution_count": 258,
     "metadata": {},
     "output_type": "execute_result"
    }
   ],
   "source": [
    "df.describe()"
   ]
  },
  {
   "cell_type": "code",
   "execution_count": 259,
   "id": "ed37111c-1e70-4961-89d5-1ee6746ca8e8",
   "metadata": {},
   "outputs": [
    {
     "data": {
      "text/html": [
       "<div>\n",
       "<style scoped>\n",
       "    .dataframe tbody tr th:only-of-type {\n",
       "        vertical-align: middle;\n",
       "    }\n",
       "\n",
       "    .dataframe tbody tr th {\n",
       "        vertical-align: top;\n",
       "    }\n",
       "\n",
       "    .dataframe thead th {\n",
       "        text-align: right;\n",
       "    }\n",
       "</style>\n",
       "<table border=\"1\" class=\"dataframe\">\n",
       "  <thead>\n",
       "    <tr style=\"text-align: right;\">\n",
       "      <th></th>\n",
       "      <th>client_id</th>\n",
       "      <th>quantity</th>\n",
       "      <th>price</th>\n",
       "      <th>category_ids</th>\n",
       "      <th>date</th>\n",
       "      <th>message_id</th>\n",
       "    </tr>\n",
       "  </thead>\n",
       "  <tbody>\n",
       "    <tr>\n",
       "      <th>0</th>\n",
       "      <td>1515915625468169594</td>\n",
       "      <td>1</td>\n",
       "      <td>1999.0</td>\n",
       "      <td>['4', '28', '57', '431']</td>\n",
       "      <td>2022-05-16</td>\n",
       "      <td>1515915625468169594-4301-627b661e9736d</td>\n",
       "    </tr>\n",
       "    <tr>\n",
       "      <th>1</th>\n",
       "      <td>1515915625468169594</td>\n",
       "      <td>1</td>\n",
       "      <td>2499.0</td>\n",
       "      <td>['4', '28', '57', '431']</td>\n",
       "      <td>2022-05-16</td>\n",
       "      <td>1515915625468169594-4301-627b661e9736d</td>\n",
       "    </tr>\n",
       "    <tr>\n",
       "      <th>2</th>\n",
       "      <td>1515915625471138230</td>\n",
       "      <td>1</td>\n",
       "      <td>6499.0</td>\n",
       "      <td>['4', '28', '57', '431']</td>\n",
       "      <td>2022-05-16</td>\n",
       "      <td>1515915625471138230-4437-6282242f27843</td>\n",
       "    </tr>\n",
       "    <tr>\n",
       "      <th>3</th>\n",
       "      <td>1515915625471138230</td>\n",
       "      <td>1</td>\n",
       "      <td>4999.0</td>\n",
       "      <td>['4', '28', '244', '432']</td>\n",
       "      <td>2022-05-16</td>\n",
       "      <td>1515915625471138230-4437-6282242f27843</td>\n",
       "    </tr>\n",
       "    <tr>\n",
       "      <th>4</th>\n",
       "      <td>1515915625471138230</td>\n",
       "      <td>1</td>\n",
       "      <td>4999.0</td>\n",
       "      <td>['4', '28', '49', '413']</td>\n",
       "      <td>2022-05-16</td>\n",
       "      <td>1515915625471138230-4437-6282242f27843</td>\n",
       "    </tr>\n",
       "    <tr>\n",
       "      <th>5</th>\n",
       "      <td>1515915625471640575</td>\n",
       "      <td>1</td>\n",
       "      <td>3499.0</td>\n",
       "      <td>['2', '18', '258', '441']</td>\n",
       "      <td>2022-05-16</td>\n",
       "      <td>1515915625471640575-4301-627b661b67ac3</td>\n",
       "    </tr>\n",
       "    <tr>\n",
       "      <th>6</th>\n",
       "      <td>1515915625490211585</td>\n",
       "      <td>1</td>\n",
       "      <td>1699.0</td>\n",
       "      <td>['2', '18', '341', '1311']</td>\n",
       "      <td>2022-05-16</td>\n",
       "      <td>1515915625490211585-4301-627b661843283</td>\n",
       "    </tr>\n",
       "    <tr>\n",
       "      <th>7</th>\n",
       "      <td>1515915625490739153</td>\n",
       "      <td>1</td>\n",
       "      <td>1999.0</td>\n",
       "      <td>['2', '18', '123', '451']</td>\n",
       "      <td>2022-05-16</td>\n",
       "      <td>1515915625490739153-4172-626b943cc789b</td>\n",
       "    </tr>\n",
       "    <tr>\n",
       "      <th>8</th>\n",
       "      <td>1515915625491478747</td>\n",
       "      <td>1</td>\n",
       "      <td>999.0</td>\n",
       "      <td>['5562', '5631', '5549', '667']</td>\n",
       "      <td>2022-05-16</td>\n",
       "      <td>1515915625491478747-4273-6274ceb769d59</td>\n",
       "    </tr>\n",
       "    <tr>\n",
       "      <th>9</th>\n",
       "      <td>1515915625491651493</td>\n",
       "      <td>1</td>\n",
       "      <td>699.0</td>\n",
       "      <td>['5562', '5630', '5649', '678']</td>\n",
       "      <td>2022-05-16</td>\n",
       "      <td>1515915625491651493-4437-6282242f2a9e2</td>\n",
       "    </tr>\n",
       "  </tbody>\n",
       "</table>\n",
       "</div>"
      ],
      "text/plain": [
       "             client_id  quantity   price                     category_ids  \\\n",
       "0  1515915625468169594         1  1999.0         ['4', '28', '57', '431']   \n",
       "1  1515915625468169594         1  2499.0         ['4', '28', '57', '431']   \n",
       "2  1515915625471138230         1  6499.0         ['4', '28', '57', '431']   \n",
       "3  1515915625471138230         1  4999.0        ['4', '28', '244', '432']   \n",
       "4  1515915625471138230         1  4999.0         ['4', '28', '49', '413']   \n",
       "5  1515915625471640575         1  3499.0        ['2', '18', '258', '441']   \n",
       "6  1515915625490211585         1  1699.0       ['2', '18', '341', '1311']   \n",
       "7  1515915625490739153         1  1999.0        ['2', '18', '123', '451']   \n",
       "8  1515915625491478747         1   999.0  ['5562', '5631', '5549', '667']   \n",
       "9  1515915625491651493         1   699.0  ['5562', '5630', '5649', '678']   \n",
       "\n",
       "         date                              message_id  \n",
       "0  2022-05-16  1515915625468169594-4301-627b661e9736d  \n",
       "1  2022-05-16  1515915625468169594-4301-627b661e9736d  \n",
       "2  2022-05-16  1515915625471138230-4437-6282242f27843  \n",
       "3  2022-05-16  1515915625471138230-4437-6282242f27843  \n",
       "4  2022-05-16  1515915625471138230-4437-6282242f27843  \n",
       "5  2022-05-16  1515915625471640575-4301-627b661b67ac3  \n",
       "6  2022-05-16  1515915625490211585-4301-627b661843283  \n",
       "7  2022-05-16  1515915625490739153-4172-626b943cc789b  \n",
       "8  2022-05-16  1515915625491478747-4273-6274ceb769d59  \n",
       "9  2022-05-16  1515915625491651493-4437-6282242f2a9e2  "
      ]
     },
     "execution_count": 259,
     "metadata": {},
     "output_type": "execute_result"
    }
   ],
   "source": [
    "df.head(10)"
   ]
  },
  {
   "cell_type": "markdown",
   "id": "090fa770-3996-4565-98bc-7147a58e6134",
   "metadata": {},
   "source": [
    "Отметим следующее:\n",
    "- Явных пропусков нет.\n",
    "- Столбец date имеет тип object, вместо ожидаемого datetime. Возможно потребует корректировки.\n",
    "- В столбце quantity потенциально аномальное распределение данных (от минимума до 3 квартиля значение 1, а максимальное - 30).\n",
    "- В столбце price также широкий диапазон данных, с явным смещение в сторону минимума."
   ]
  },
  {
   "cell_type": "markdown",
   "id": "5d22377a-e235-4a40-81b0-708eb74122a3",
   "metadata": {},
   "source": [
    "### Датасет target"
   ]
  },
  {
   "cell_type": "code",
   "execution_count": 260,
   "id": "3ff7c8cf-5f99-44cc-9b35-973a11ff601f",
   "metadata": {},
   "outputs": [
    {
     "name": "stdout",
     "output_type": "stream",
     "text": [
      "<class 'pandas.core.frame.DataFrame'>\n",
      "RangeIndex: 49849 entries, 0 to 49848\n",
      "Data columns (total 2 columns):\n",
      " #   Column     Non-Null Count  Dtype\n",
      "---  ------     --------------  -----\n",
      " 0   client_id  49849 non-null  int64\n",
      " 1   target     49849 non-null  int64\n",
      "dtypes: int64(2)\n",
      "memory usage: 779.0 KB\n"
     ]
    }
   ],
   "source": [
    "target.info()"
   ]
  },
  {
   "cell_type": "code",
   "execution_count": 261,
   "id": "4316f2a4-e6d7-43c7-b805-d960f5bae87b",
   "metadata": {},
   "outputs": [
    {
     "data": {
      "text/html": [
       "<div>\n",
       "<style scoped>\n",
       "    .dataframe tbody tr th:only-of-type {\n",
       "        vertical-align: middle;\n",
       "    }\n",
       "\n",
       "    .dataframe tbody tr th {\n",
       "        vertical-align: top;\n",
       "    }\n",
       "\n",
       "    .dataframe thead th {\n",
       "        text-align: right;\n",
       "    }\n",
       "</style>\n",
       "<table border=\"1\" class=\"dataframe\">\n",
       "  <thead>\n",
       "    <tr style=\"text-align: right;\">\n",
       "      <th></th>\n",
       "      <th>client_id</th>\n",
       "      <th>target</th>\n",
       "    </tr>\n",
       "  </thead>\n",
       "  <tbody>\n",
       "    <tr>\n",
       "      <th>0</th>\n",
       "      <td>1515915625468060902</td>\n",
       "      <td>0</td>\n",
       "    </tr>\n",
       "    <tr>\n",
       "      <th>1</th>\n",
       "      <td>1515915625468061003</td>\n",
       "      <td>1</td>\n",
       "    </tr>\n",
       "    <tr>\n",
       "      <th>2</th>\n",
       "      <td>1515915625468061099</td>\n",
       "      <td>0</td>\n",
       "    </tr>\n",
       "    <tr>\n",
       "      <th>3</th>\n",
       "      <td>1515915625468061100</td>\n",
       "      <td>0</td>\n",
       "    </tr>\n",
       "    <tr>\n",
       "      <th>4</th>\n",
       "      <td>1515915625468061170</td>\n",
       "      <td>0</td>\n",
       "    </tr>\n",
       "  </tbody>\n",
       "</table>\n",
       "</div>"
      ],
      "text/plain": [
       "             client_id  target\n",
       "0  1515915625468060902       0\n",
       "1  1515915625468061003       1\n",
       "2  1515915625468061099       0\n",
       "3  1515915625468061100       0\n",
       "4  1515915625468061170       0"
      ]
     },
     "execution_count": 261,
     "metadata": {},
     "output_type": "execute_result"
    }
   ],
   "source": [
    "target.head()"
   ]
  },
  {
   "cell_type": "code",
   "execution_count": 262,
   "id": "141da90e-5775-4277-8a35-c31eccf9d758",
   "metadata": {},
   "outputs": [
    {
     "data": {
      "text/plain": [
       "49849"
      ]
     },
     "execution_count": 262,
     "metadata": {},
     "output_type": "execute_result"
    }
   ],
   "source": [
    "target['client_id'].nunique()"
   ]
  },
  {
   "cell_type": "code",
   "execution_count": 263,
   "id": "b6479883-40ae-4ad3-bed1-f563e7484d67",
   "metadata": {},
   "outputs": [
    {
     "data": {
      "text/plain": [
       "target\n",
       "0    48888\n",
       "1      961\n",
       "Name: count, dtype: int64"
      ]
     },
     "execution_count": 263,
     "metadata": {},
     "output_type": "execute_result"
    }
   ],
   "source": [
    "target['target'].value_counts()"
   ]
  },
  {
   "cell_type": "markdown",
   "id": "b2094f91-5671-4116-aeef-1daae91a024c",
   "metadata": {},
   "source": [
    "Отметим, что данные в целевом столбце имеют корректный вид. В столбце с id имеем только уникальные значения. Обратим внимание, что большинство клиентов не вернулись в течение 90 дней."
   ]
  },
  {
   "cell_type": "markdown",
   "id": "44fe88af-3496-4298-906d-61ffef0356a4",
   "metadata": {},
   "source": [
    "## Предобработка данных"
   ]
  },
  {
   "cell_type": "markdown",
   "id": "479bfd0b-b7da-4a83-8526-407f64099b2e",
   "metadata": {},
   "source": [
    "Подготовим данные для дальнейшнего анализа.\n",
    "\n",
    "Т.к. предварительно отметили отсутствие пропусков и потенциально релевантные значения данных, оценим, есть ли полные дубликаты в строках датасета."
   ]
  },
  {
   "cell_type": "code",
   "execution_count": 264,
   "id": "07043f43-b437-4926-8c1b-84624118b30a",
   "metadata": {},
   "outputs": [
    {
     "data": {
      "text/plain": [
       "73020"
      ]
     },
     "execution_count": 264,
     "metadata": {},
     "output_type": "execute_result"
    }
   ],
   "source": [
    "df.duplicated().sum()"
   ]
  },
  {
   "cell_type": "markdown",
   "id": "0a0a6889-e8ca-4346-a748-ed2b1b4b7305",
   "metadata": {},
   "source": [
    "Это 36% данных, т.е. больше 1/3 данных являются полными дубликатами. В случае удаления это будет недопустимо большая потеря данных.\n",
    "Учтем, что в данном случае нет данных о времени покупки, а также в целом специфике интернет-магазина (какие категории товаров, работает он по системе B2B или B2C, т.д.). Соответственно, объективно нет возможности оценить, насколько такое покупательское поведение является стандартным для данной отрасли.\n",
    "\n",
    "Ввиду значительности объема данных, сохраним их, т.к. на текущий момент не подтверждено, что эти данные являются ошибочными. С этого момента такое покупательское поведение в данном случае будет считаться как возможное."
   ]
  },
  {
   "cell_type": "markdown",
   "id": "3b2d23ca-0b93-43d5-bd2e-02d18a1c4808",
   "metadata": {},
   "source": [
    "Рассмотрим, как распределяются количества единиц товаров в дс data (столбец quantity)."
   ]
  },
  {
   "cell_type": "code",
   "execution_count": 265,
   "id": "cf32711a-d1d6-43c0-a209-fd82abce1b2a",
   "metadata": {},
   "outputs": [
    {
     "data": {
      "text/plain": [
       "quantity\n",
       "1     201323\n",
       "2        751\n",
       "3         94\n",
       "4         12\n",
       "6          5\n",
       "10         4\n",
       "20         3\n",
       "15         3\n",
       "5          3\n",
       "25         2\n",
       "30         2\n",
       "9          2\n",
       "13         1\n",
       "18         1\n",
       "8          1\n",
       "7          1\n",
       "Name: count, dtype: int64"
      ]
     },
     "execution_count": 265,
     "metadata": {},
     "output_type": "execute_result"
    }
   ],
   "source": [
    "df['quantity'].value_counts()"
   ]
  },
  {
   "cell_type": "code",
   "execution_count": 266,
   "id": "1d182918-9abd-4d70-adeb-9c01a2a336f2",
   "metadata": {},
   "outputs": [
    {
     "data": {
      "text/plain": [
       "<Axes: >"
      ]
     },
     "execution_count": 266,
     "metadata": {},
     "output_type": "execute_result"
    },
    {
     "data": {
      "image/png": "[encoded data removed]",
      "text/plain": [
       "<Figure size 640x480 with 1 Axes>"
      ]
     },
     "metadata": {},
     "output_type": "display_data"
    }
   ],
   "source": [
    "df['quantity'].hist(range=(2,30))"
   ]
  },
  {
   "cell_type": "markdown",
   "id": "ba6c5200-22d9-4080-8bc8-8c035ec5ed56",
   "metadata": {},
   "source": [
    "Как ранее отмечали, действительно видим перекос в распределении данных. Однако в данном случае мы не можем исключить какие-либо покупки, т.к. у нас нет оснований полагать, что клиент не может приобрести 8 или 18 едииниц товара. При этом то, что большинство товаров куплено в единичном количестве, является ожидаемым результатом. Соответственно, это данные не требуют корректировки.\n",
    "\n",
    "Расмотрим покупки с потенциально аномально высокой стоимостью."
   ]
  },
  {
   "cell_type": "code",
   "execution_count": 267,
   "id": "f791aa73-061b-4e8f-8aa6-d5c13402ef2f",
   "metadata": {},
   "outputs": [
    {
     "data": {
      "text/html": [
       "<div>\n",
       "<style scoped>\n",
       "    .dataframe tbody tr th:only-of-type {\n",
       "        vertical-align: middle;\n",
       "    }\n",
       "\n",
       "    .dataframe tbody tr th {\n",
       "        vertical-align: top;\n",
       "    }\n",
       "\n",
       "    .dataframe thead th {\n",
       "        text-align: right;\n",
       "    }\n",
       "</style>\n",
       "<table border=\"1\" class=\"dataframe\">\n",
       "  <thead>\n",
       "    <tr style=\"text-align: right;\">\n",
       "      <th></th>\n",
       "      <th>client_id</th>\n",
       "      <th>quantity</th>\n",
       "      <th>price</th>\n",
       "      <th>category_ids</th>\n",
       "      <th>date</th>\n",
       "      <th>message_id</th>\n",
       "    </tr>\n",
       "  </thead>\n",
       "  <tbody>\n",
       "    <tr>\n",
       "      <th>166576</th>\n",
       "      <td>1515915625776653984</td>\n",
       "      <td>1</td>\n",
       "      <td>63499.0</td>\n",
       "      <td>['4', '29', '310', '1577']</td>\n",
       "      <td>2023-08-26</td>\n",
       "      <td>1515915625776653984-13719-64e85f9332bc8</td>\n",
       "    </tr>\n",
       "    <tr>\n",
       "      <th>166578</th>\n",
       "      <td>1515915625776653984</td>\n",
       "      <td>1</td>\n",
       "      <td>60200.0</td>\n",
       "      <td>['4', '29', '310', '1577']</td>\n",
       "      <td>2023-08-26</td>\n",
       "      <td>1515915625776653984-13719-64e85f9332bc8</td>\n",
       "    </tr>\n",
       "    <tr>\n",
       "      <th>186736</th>\n",
       "      <td>1515915625553309277</td>\n",
       "      <td>1</td>\n",
       "      <td>85499.0</td>\n",
       "      <td>['4', '29', '313', '1574']</td>\n",
       "      <td>2023-12-24</td>\n",
       "      <td>1515915625553309277-14352-6585585d7a711</td>\n",
       "    </tr>\n",
       "  </tbody>\n",
       "</table>\n",
       "</div>"
      ],
      "text/plain": [
       "                  client_id  quantity    price                category_ids  \\\n",
       "166576  1515915625776653984         1  63499.0  ['4', '29', '310', '1577']   \n",
       "166578  1515915625776653984         1  60200.0  ['4', '29', '310', '1577']   \n",
       "186736  1515915625553309277         1  85499.0  ['4', '29', '313', '1574']   \n",
       "\n",
       "              date                               message_id  \n",
       "166576  2023-08-26  1515915625776653984-13719-64e85f9332bc8  \n",
       "166578  2023-08-26  1515915625776653984-13719-64e85f9332bc8  \n",
       "186736  2023-12-24  1515915625553309277-14352-6585585d7a711  "
      ]
     },
     "execution_count": 267,
     "metadata": {},
     "output_type": "execute_result"
    }
   ],
   "source": [
    "df[df['price']>60000]"
   ]
  },
  {
   "cell_type": "markdown",
   "id": "394d7ece-cfd0-4af2-bd11-7a0d490ef003",
   "metadata": {},
   "source": [
    "Отметим следующее:\n",
    "1. Максимальное значение действительно ощутимо отличается от остальных. Необходимо рассмотреть, были ли иные покупки товара данной категории.\n",
    "2. Первые две строки выведенного фрагмента дс показывают данные об одном и том же покупателе, который приобрел один и тот же товар в один и тот же день, однако их цена заметно отличается. Можем предположить, что после первой покупки клиент получил индивидуальную скидку или же в целом на сайте цена опустилась для всех, что сподвигло клиента приобрести также и второй точно такой же товар. В любом случае, потенциально такая ситуация возможна, хотя и потенциально может оказать негативное влияние на результаты предсказания модели.\n",
    "3. Можем предположить, что дорогие товары относятя к общей категории (вероятно, дорогостоящей). Вероятно, высокая цена приводит к меньшему количеству покупок в общем числе товарооборота, в связи с этим цены кажутся аномально высокими на фоне остальных.\n",
    "\n",
    "Перепроверим значения в столбце category_ids на корректность заполнения."
   ]
  },
  {
   "cell_type": "code",
   "execution_count": 268,
   "id": "d510875b-68b5-46e5-b2d7-6425b396ce29",
   "metadata": {
    "scrolled": true
   },
   "outputs": [
    {
     "data": {
      "text/plain": [
       "166755                           []\n",
       "134545                           []\n",
       "63462                            []\n",
       "126143                           []\n",
       "97964                            []\n",
       "                    ...            \n",
       "185211    ['2', '17', '107', '453']\n",
       "146674    ['2', '17', '107', '453']\n",
       "5990       ['1', '8', '280', '710']\n",
       "22938      ['1', '22', '50', '685']\n",
       "29809      ['1', '22', '50', '685']\n",
       "Name: category_ids, Length: 202208, dtype: object"
      ]
     },
     "execution_count": 268,
     "metadata": {},
     "output_type": "execute_result"
    }
   ],
   "source": [
    "df['category_ids'].sort_values(ascending=False)"
   ]
  },
  {
   "cell_type": "markdown",
   "id": "eee88e22-a2ba-40c3-acb5-5a441a162251",
   "metadata": {},
   "source": [
    "Обратим внимание, что в столбце есть скрытые пропуски (пустые категории)."
   ]
  },
  {
   "cell_type": "code",
   "execution_count": 269,
   "id": "fca5550d-3e3e-471a-a4cc-352531dad89b",
   "metadata": {},
   "outputs": [],
   "source": [
    "#Для простоты работы преобразуем текущий список в действительно список целочисленных значений\n",
    "#Для этого напишем функцию, преобразующую значения в список\n",
    "def convert_to_int_list(s):\n",
    "    s = s.strip(\"[]\")  #Удаляем квадратные скобки\n",
    "    el = s.split(\", \")  #Разделяем строку на элементы\n",
    "    #Ранее отметили наличие пустых строк, которые станут None на этом этапе. Пропускаем их\n",
    "    int_e = []\n",
    "    for e in el:\n",
    "        try:\n",
    "            int_value = int(e.strip(\"'\"))\n",
    "            int_e.append(int_value)\n",
    "        except ValueError:\n",
    "            pass  # Пропускаем элемент, если он не может быть преобразован в int\n",
    "            \n",
    "    return int_e"
   ]
  },
  {
   "cell_type": "code",
   "execution_count": 270,
   "id": "1b1aa62b-ec9c-482e-8b41-abdfbc4b4278",
   "metadata": {},
   "outputs": [],
   "source": [
    "df['category_ids'] = df['category_ids'].apply(convert_to_int_list)"
   ]
  },
  {
   "cell_type": "markdown",
   "id": "c537763f-8ef8-4010-aa2f-c33632c1e6f9",
   "metadata": {},
   "source": [
    "Оценим количество таких строк и посмотрим, есть ли в них что-то общее."
   ]
  },
  {
   "cell_type": "code",
   "execution_count": 271,
   "id": "8fe16e70-7447-4226-98f4-e45c028946b8",
   "metadata": {},
   "outputs": [
    {
     "data": {
      "text/html": [
       "<div>\n",
       "<style scoped>\n",
       "    .dataframe tbody tr th:only-of-type {\n",
       "        vertical-align: middle;\n",
       "    }\n",
       "\n",
       "    .dataframe tbody tr th {\n",
       "        vertical-align: top;\n",
       "    }\n",
       "\n",
       "    .dataframe thead th {\n",
       "        text-align: right;\n",
       "    }\n",
       "</style>\n",
       "<table border=\"1\" class=\"dataframe\">\n",
       "  <thead>\n",
       "    <tr style=\"text-align: right;\">\n",
       "      <th></th>\n",
       "      <th>client_id</th>\n",
       "      <th>quantity</th>\n",
       "      <th>price</th>\n",
       "      <th>category_ids</th>\n",
       "      <th>date</th>\n",
       "      <th>message_id</th>\n",
       "    </tr>\n",
       "  </thead>\n",
       "  <tbody>\n",
       "    <tr>\n",
       "      <th>14848</th>\n",
       "      <td>1515915625649908756</td>\n",
       "      <td>1</td>\n",
       "      <td>2499.0</td>\n",
       "      <td>[]</td>\n",
       "      <td>2022-06-17</td>\n",
       "      <td>1515915625649908756-4981-62ac2dbf52fad</td>\n",
       "    </tr>\n",
       "    <tr>\n",
       "      <th>22153</th>\n",
       "      <td>1515915625558323436</td>\n",
       "      <td>1</td>\n",
       "      <td>1.0</td>\n",
       "      <td>[]</td>\n",
       "      <td>2022-07-09</td>\n",
       "      <td>1515915625487742246-5335-62c7d2d1281c7</td>\n",
       "    </tr>\n",
       "    <tr>\n",
       "      <th>22154</th>\n",
       "      <td>1515915625558323436</td>\n",
       "      <td>1</td>\n",
       "      <td>1.0</td>\n",
       "      <td>[]</td>\n",
       "      <td>2022-07-09</td>\n",
       "      <td>1515915625487742246-5335-62c7d2d1281c7</td>\n",
       "    </tr>\n",
       "    <tr>\n",
       "      <th>32281</th>\n",
       "      <td>1515915625578652401</td>\n",
       "      <td>1</td>\n",
       "      <td>8.0</td>\n",
       "      <td>[]</td>\n",
       "      <td>2022-08-19</td>\n",
       "      <td>1515915625815834300-5922-62ff35494e05f</td>\n",
       "    </tr>\n",
       "    <tr>\n",
       "      <th>32282</th>\n",
       "      <td>1515915625578652401</td>\n",
       "      <td>1</td>\n",
       "      <td>8.0</td>\n",
       "      <td>[]</td>\n",
       "      <td>2022-08-19</td>\n",
       "      <td>1515915625815834300-5922-62ff35494e05f</td>\n",
       "    </tr>\n",
       "    <tr>\n",
       "      <th>...</th>\n",
       "      <td>...</td>\n",
       "      <td>...</td>\n",
       "      <td>...</td>\n",
       "      <td>...</td>\n",
       "      <td>...</td>\n",
       "      <td>...</td>\n",
       "    </tr>\n",
       "    <tr>\n",
       "      <th>201990</th>\n",
       "      <td>1515915625641742458</td>\n",
       "      <td>1</td>\n",
       "      <td>7.0</td>\n",
       "      <td>[]</td>\n",
       "      <td>2024-02-16</td>\n",
       "      <td>1515915625766077627-14668-65cf5246bd490</td>\n",
       "    </tr>\n",
       "    <tr>\n",
       "      <th>202068</th>\n",
       "      <td>1515915625955716904</td>\n",
       "      <td>1</td>\n",
       "      <td>7.0</td>\n",
       "      <td>[]</td>\n",
       "      <td>2024-02-16</td>\n",
       "      <td>1515915625955716904-14668-65cf5252e767c</td>\n",
       "    </tr>\n",
       "    <tr>\n",
       "      <th>202069</th>\n",
       "      <td>1515915625955716904</td>\n",
       "      <td>1</td>\n",
       "      <td>7.0</td>\n",
       "      <td>[]</td>\n",
       "      <td>2024-02-16</td>\n",
       "      <td>1515915625955716904-14668-65cf5252e767c</td>\n",
       "    </tr>\n",
       "    <tr>\n",
       "      <th>202144</th>\n",
       "      <td>1515915626007712189</td>\n",
       "      <td>1</td>\n",
       "      <td>12.0</td>\n",
       "      <td>[]</td>\n",
       "      <td>2024-02-16</td>\n",
       "      <td>1515915626007712189-14648-65cdb6d1c0c2a</td>\n",
       "    </tr>\n",
       "    <tr>\n",
       "      <th>202145</th>\n",
       "      <td>1515915626007712189</td>\n",
       "      <td>1</td>\n",
       "      <td>12.0</td>\n",
       "      <td>[]</td>\n",
       "      <td>2024-02-16</td>\n",
       "      <td>1515915626007712189-14648-65cdb6d1c0c2a</td>\n",
       "    </tr>\n",
       "  </tbody>\n",
       "</table>\n",
       "<p>6843 rows × 6 columns</p>\n",
       "</div>"
      ],
      "text/plain": [
       "                  client_id  quantity   price category_ids        date  \\\n",
       "14848   1515915625649908756         1  2499.0           []  2022-06-17   \n",
       "22153   1515915625558323436         1     1.0           []  2022-07-09   \n",
       "22154   1515915625558323436         1     1.0           []  2022-07-09   \n",
       "32281   1515915625578652401         1     8.0           []  2022-08-19   \n",
       "32282   1515915625578652401         1     8.0           []  2022-08-19   \n",
       "...                     ...       ...     ...          ...         ...   \n",
       "201990  1515915625641742458         1     7.0           []  2024-02-16   \n",
       "202068  1515915625955716904         1     7.0           []  2024-02-16   \n",
       "202069  1515915625955716904         1     7.0           []  2024-02-16   \n",
       "202144  1515915626007712189         1    12.0           []  2024-02-16   \n",
       "202145  1515915626007712189         1    12.0           []  2024-02-16   \n",
       "\n",
       "                                     message_id  \n",
       "14848    1515915625649908756-4981-62ac2dbf52fad  \n",
       "22153    1515915625487742246-5335-62c7d2d1281c7  \n",
       "22154    1515915625487742246-5335-62c7d2d1281c7  \n",
       "32281    1515915625815834300-5922-62ff35494e05f  \n",
       "32282    1515915625815834300-5922-62ff35494e05f  \n",
       "...                                         ...  \n",
       "201990  1515915625766077627-14668-65cf5246bd490  \n",
       "202068  1515915625955716904-14668-65cf5252e767c  \n",
       "202069  1515915625955716904-14668-65cf5252e767c  \n",
       "202144  1515915626007712189-14648-65cdb6d1c0c2a  \n",
       "202145  1515915626007712189-14648-65cdb6d1c0c2a  \n",
       "\n",
       "[6843 rows x 6 columns]"
      ]
     },
     "execution_count": 271,
     "metadata": {},
     "output_type": "execute_result"
    }
   ],
   "source": [
    "df[df['category_ids'].apply(set) == set([])]"
   ]
  },
  {
   "cell_type": "markdown",
   "id": "e6e90d50-10b7-4ff8-894e-2f514f2ceaf3",
   "metadata": {},
   "source": [
    "Отметим, что среди таких строк встречаются полные дубликаты. Можно предположить, что или товар был удален из базы и его id не сохранился, или данные были утеряны при формировании датасета, или данные строки являются некорректными и не отражают реальность (например, тестовые заказы, ошибочно включенные в выборку).\n",
    "\n",
    "Проверим на примере первого клиента, посмотрим все его заказы по его id."
   ]
  },
  {
   "cell_type": "code",
   "execution_count": 272,
   "id": "e444bff4-89c1-46ca-a55e-7463b9225a47",
   "metadata": {},
   "outputs": [
    {
     "data": {
      "text/html": [
       "<div>\n",
       "<style scoped>\n",
       "    .dataframe tbody tr th:only-of-type {\n",
       "        vertical-align: middle;\n",
       "    }\n",
       "\n",
       "    .dataframe tbody tr th {\n",
       "        vertical-align: top;\n",
       "    }\n",
       "\n",
       "    .dataframe thead th {\n",
       "        text-align: right;\n",
       "    }\n",
       "</style>\n",
       "<table border=\"1\" class=\"dataframe\">\n",
       "  <thead>\n",
       "    <tr style=\"text-align: right;\">\n",
       "      <th></th>\n",
       "      <th>client_id</th>\n",
       "      <th>quantity</th>\n",
       "      <th>price</th>\n",
       "      <th>category_ids</th>\n",
       "      <th>date</th>\n",
       "      <th>message_id</th>\n",
       "    </tr>\n",
       "  </thead>\n",
       "  <tbody>\n",
       "    <tr>\n",
       "      <th>14847</th>\n",
       "      <td>1515915625649908756</td>\n",
       "      <td>1</td>\n",
       "      <td>2499.0</td>\n",
       "      <td>[2, 18, 61, 661]</td>\n",
       "      <td>2022-06-17</td>\n",
       "      <td>1515915625649908756-4981-62ac2dbf52fad</td>\n",
       "    </tr>\n",
       "    <tr>\n",
       "      <th>14848</th>\n",
       "      <td>1515915625649908756</td>\n",
       "      <td>1</td>\n",
       "      <td>2499.0</td>\n",
       "      <td>[]</td>\n",
       "      <td>2022-06-17</td>\n",
       "      <td>1515915625649908756-4981-62ac2dbf52fad</td>\n",
       "    </tr>\n",
       "    <tr>\n",
       "      <th>14849</th>\n",
       "      <td>1515915625649908756</td>\n",
       "      <td>1</td>\n",
       "      <td>2499.0</td>\n",
       "      <td>[2, 18, 258, 1590]</td>\n",
       "      <td>2022-06-17</td>\n",
       "      <td>1515915625649908756-4981-62ac2dbf52fad</td>\n",
       "    </tr>\n",
       "    <tr>\n",
       "      <th>15256</th>\n",
       "      <td>1515915625649908756</td>\n",
       "      <td>1</td>\n",
       "      <td>999.0</td>\n",
       "      <td>[5562, 5631, 5549, 667]</td>\n",
       "      <td>2022-06-18</td>\n",
       "      <td>1515915625649908756-4981-62ac2dbf52fad</td>\n",
       "    </tr>\n",
       "    <tr>\n",
       "      <th>124411</th>\n",
       "      <td>1515915625649908756</td>\n",
       "      <td>1</td>\n",
       "      <td>1999.0</td>\n",
       "      <td>[2, 18, 258, 1590]</td>\n",
       "      <td>2023-05-26</td>\n",
       "      <td>1515915625649908756-12864-64708ae47f86b</td>\n",
       "    </tr>\n",
       "    <tr>\n",
       "      <th>124412</th>\n",
       "      <td>1515915625649908756</td>\n",
       "      <td>1</td>\n",
       "      <td>1999.0</td>\n",
       "      <td>[2, 18, 258, 441]</td>\n",
       "      <td>2023-05-26</td>\n",
       "      <td>1515915625649908756-12864-64708ae47f86b</td>\n",
       "    </tr>\n",
       "    <tr>\n",
       "      <th>124413</th>\n",
       "      <td>1515915625649908756</td>\n",
       "      <td>1</td>\n",
       "      <td>1999.0</td>\n",
       "      <td>[2, 18, 258, 441]</td>\n",
       "      <td>2023-05-26</td>\n",
       "      <td>1515915625649908756-12864-64708ae47f86b</td>\n",
       "    </tr>\n",
       "    <tr>\n",
       "      <th>124414</th>\n",
       "      <td>1515915625649908756</td>\n",
       "      <td>1</td>\n",
       "      <td>1999.0</td>\n",
       "      <td>[2, 18, 212, 726]</td>\n",
       "      <td>2023-05-26</td>\n",
       "      <td>1515915625649908756-12864-64708ae47f86b</td>\n",
       "    </tr>\n",
       "    <tr>\n",
       "      <th>124415</th>\n",
       "      <td>1515915625649908756</td>\n",
       "      <td>1</td>\n",
       "      <td>1999.0</td>\n",
       "      <td>[2, 18, 258, 1590]</td>\n",
       "      <td>2023-05-26</td>\n",
       "      <td>1515915625649908756-12864-64708ae47f86b</td>\n",
       "    </tr>\n",
       "    <tr>\n",
       "      <th>124416</th>\n",
       "      <td>1515915625649908756</td>\n",
       "      <td>1</td>\n",
       "      <td>1999.0</td>\n",
       "      <td>[2, 18, 212, 726]</td>\n",
       "      <td>2023-05-26</td>\n",
       "      <td>1515915625649908756-12864-64708ae47f86b</td>\n",
       "    </tr>\n",
       "  </tbody>\n",
       "</table>\n",
       "</div>"
      ],
      "text/plain": [
       "                  client_id  quantity   price             category_ids  \\\n",
       "14847   1515915625649908756         1  2499.0         [2, 18, 61, 661]   \n",
       "14848   1515915625649908756         1  2499.0                       []   \n",
       "14849   1515915625649908756         1  2499.0       [2, 18, 258, 1590]   \n",
       "15256   1515915625649908756         1   999.0  [5562, 5631, 5549, 667]   \n",
       "124411  1515915625649908756         1  1999.0       [2, 18, 258, 1590]   \n",
       "124412  1515915625649908756         1  1999.0        [2, 18, 258, 441]   \n",
       "124413  1515915625649908756         1  1999.0        [2, 18, 258, 441]   \n",
       "124414  1515915625649908756         1  1999.0        [2, 18, 212, 726]   \n",
       "124415  1515915625649908756         1  1999.0       [2, 18, 258, 1590]   \n",
       "124416  1515915625649908756         1  1999.0        [2, 18, 212, 726]   \n",
       "\n",
       "              date                               message_id  \n",
       "14847   2022-06-17   1515915625649908756-4981-62ac2dbf52fad  \n",
       "14848   2022-06-17   1515915625649908756-4981-62ac2dbf52fad  \n",
       "14849   2022-06-17   1515915625649908756-4981-62ac2dbf52fad  \n",
       "15256   2022-06-18   1515915625649908756-4981-62ac2dbf52fad  \n",
       "124411  2023-05-26  1515915625649908756-12864-64708ae47f86b  \n",
       "124412  2023-05-26  1515915625649908756-12864-64708ae47f86b  \n",
       "124413  2023-05-26  1515915625649908756-12864-64708ae47f86b  \n",
       "124414  2023-05-26  1515915625649908756-12864-64708ae47f86b  \n",
       "124415  2023-05-26  1515915625649908756-12864-64708ae47f86b  \n",
       "124416  2023-05-26  1515915625649908756-12864-64708ae47f86b  "
      ]
     },
     "execution_count": 272,
     "metadata": {},
     "output_type": "execute_result"
    }
   ],
   "source": [
    "df[df['client_id']==1515915625649908756]"
   ]
  },
  {
   "cell_type": "markdown",
   "id": "2b4f2af4-2d9d-4415-bb33-29ed0acdc6f1",
   "metadata": {},
   "source": [
    "Отметим, что это не единичный его заказ. Соответственно, вероятнее всего, id был удален случайно.\n",
    "Присвоим таким строкам дефолтное значение [0, 0, 0, 0]"
   ]
  },
  {
   "cell_type": "code",
   "execution_count": 273,
   "id": "fcf7ac58-95e2-4d75-ad28-58eb12ec6949",
   "metadata": {},
   "outputs": [],
   "source": [
    "df['category_ids'] = df['category_ids'].apply(lambda x: [0, 0, 0, 0] if not x else x)"
   ]
  },
  {
   "cell_type": "code",
   "execution_count": 274,
   "id": "c3cc3089-e0b1-4ead-8dc5-542e27adf357",
   "metadata": {
    "scrolled": true
   },
   "outputs": [
    {
     "data": {
      "text/html": [
       "<div>\n",
       "<style scoped>\n",
       "    .dataframe tbody tr th:only-of-type {\n",
       "        vertical-align: middle;\n",
       "    }\n",
       "\n",
       "    .dataframe tbody tr th {\n",
       "        vertical-align: top;\n",
       "    }\n",
       "\n",
       "    .dataframe thead th {\n",
       "        text-align: right;\n",
       "    }\n",
       "</style>\n",
       "<table border=\"1\" class=\"dataframe\">\n",
       "  <thead>\n",
       "    <tr style=\"text-align: right;\">\n",
       "      <th></th>\n",
       "      <th>client_id</th>\n",
       "      <th>quantity</th>\n",
       "      <th>price</th>\n",
       "      <th>category_ids</th>\n",
       "      <th>date</th>\n",
       "      <th>message_id</th>\n",
       "    </tr>\n",
       "  </thead>\n",
       "  <tbody>\n",
       "    <tr>\n",
       "      <th>12994</th>\n",
       "      <td>1515915625494529950</td>\n",
       "      <td>1</td>\n",
       "      <td>16499.0</td>\n",
       "      <td>[4, 29, 313, 1574]</td>\n",
       "      <td>2022-06-10</td>\n",
       "      <td>1515915625494529950-4832-62a1969869bb0</td>\n",
       "    </tr>\n",
       "    <tr>\n",
       "      <th>98921</th>\n",
       "      <td>1515915625474387397</td>\n",
       "      <td>1</td>\n",
       "      <td>16660.0</td>\n",
       "      <td>[4, 29, 313, 1574]</td>\n",
       "      <td>2023-04-05</td>\n",
       "      <td>1515915625474387397-11527-642c1f61cbd80</td>\n",
       "    </tr>\n",
       "    <tr>\n",
       "      <th>98922</th>\n",
       "      <td>1515915625474387397</td>\n",
       "      <td>1</td>\n",
       "      <td>16660.0</td>\n",
       "      <td>[4, 29, 313, 1574]</td>\n",
       "      <td>2023-04-05</td>\n",
       "      <td>1515915625474387397-11527-642c1f61cbd80</td>\n",
       "    </tr>\n",
       "    <tr>\n",
       "      <th>142203</th>\n",
       "      <td>1515915625468081528</td>\n",
       "      <td>1</td>\n",
       "      <td>22680.0</td>\n",
       "      <td>[4, 29, 313, 1574]</td>\n",
       "      <td>2023-06-20</td>\n",
       "      <td>1515915625468081528-13372-649150b651ec0</td>\n",
       "    </tr>\n",
       "    <tr>\n",
       "      <th>142204</th>\n",
       "      <td>1515915625468081528</td>\n",
       "      <td>1</td>\n",
       "      <td>22680.0</td>\n",
       "      <td>[4, 29, 313, 1574]</td>\n",
       "      <td>2023-06-20</td>\n",
       "      <td>1515915625468081528-13372-649150b651ec0</td>\n",
       "    </tr>\n",
       "    <tr>\n",
       "      <th>155219</th>\n",
       "      <td>1515915625590727241</td>\n",
       "      <td>1</td>\n",
       "      <td>15049.0</td>\n",
       "      <td>[4, 29, 313, 1574]</td>\n",
       "      <td>2023-07-07</td>\n",
       "      <td>1515915625776568054-13456-64a7dde275979</td>\n",
       "    </tr>\n",
       "    <tr>\n",
       "      <th>155220</th>\n",
       "      <td>1515915625590727241</td>\n",
       "      <td>1</td>\n",
       "      <td>15049.0</td>\n",
       "      <td>[4, 29, 313, 1574]</td>\n",
       "      <td>2023-07-07</td>\n",
       "      <td>1515915625776568054-13456-64a7dde275979</td>\n",
       "    </tr>\n",
       "    <tr>\n",
       "      <th>159176</th>\n",
       "      <td>1515915625502430512</td>\n",
       "      <td>1</td>\n",
       "      <td>13999.0</td>\n",
       "      <td>[4, 29, 313, 1574]</td>\n",
       "      <td>2023-07-13</td>\n",
       "      <td>1515915625776547099-13471-64abf25c6fe22</td>\n",
       "    </tr>\n",
       "    <tr>\n",
       "      <th>159177</th>\n",
       "      <td>1515915625502430512</td>\n",
       "      <td>1</td>\n",
       "      <td>13999.0</td>\n",
       "      <td>[4, 29, 313, 1574]</td>\n",
       "      <td>2023-07-13</td>\n",
       "      <td>1515915625776547099-13471-64abf25c6fe22</td>\n",
       "    </tr>\n",
       "    <tr>\n",
       "      <th>159465</th>\n",
       "      <td>1515915625776547099</td>\n",
       "      <td>1</td>\n",
       "      <td>19999.0</td>\n",
       "      <td>[4, 29, 313, 1574]</td>\n",
       "      <td>2023-07-13</td>\n",
       "      <td>1515915625776547099-13471-64abf25c6fe22</td>\n",
       "    </tr>\n",
       "    <tr>\n",
       "      <th>159941</th>\n",
       "      <td>1515915625726358492</td>\n",
       "      <td>1</td>\n",
       "      <td>20999.0</td>\n",
       "      <td>[4, 29, 313, 1574]</td>\n",
       "      <td>2023-07-18</td>\n",
       "      <td>1515915625491480139-13505-64b5065f990cd</td>\n",
       "    </tr>\n",
       "    <tr>\n",
       "      <th>167074</th>\n",
       "      <td>1515915625980197822</td>\n",
       "      <td>1</td>\n",
       "      <td>11760.0</td>\n",
       "      <td>[4, 29, 313, 1574]</td>\n",
       "      <td>2023-08-29</td>\n",
       "      <td>1515915625980197822-13733-64edb408546b9</td>\n",
       "    </tr>\n",
       "    <tr>\n",
       "      <th>167075</th>\n",
       "      <td>1515915625980197822</td>\n",
       "      <td>1</td>\n",
       "      <td>11760.0</td>\n",
       "      <td>[4, 29, 313, 1574]</td>\n",
       "      <td>2023-08-29</td>\n",
       "      <td>1515915625980197822-13733-64edb408546b9</td>\n",
       "    </tr>\n",
       "    <tr>\n",
       "      <th>171323</th>\n",
       "      <td>1515915625589682336</td>\n",
       "      <td>1</td>\n",
       "      <td>17188.0</td>\n",
       "      <td>[4, 29, 313, 1574]</td>\n",
       "      <td>2023-09-27</td>\n",
       "      <td>1515915625959777467-13868-6513cbb257da6</td>\n",
       "    </tr>\n",
       "    <tr>\n",
       "      <th>171324</th>\n",
       "      <td>1515915625589682336</td>\n",
       "      <td>1</td>\n",
       "      <td>17188.0</td>\n",
       "      <td>[4, 29, 313, 1574]</td>\n",
       "      <td>2023-09-27</td>\n",
       "      <td>1515915625959777467-13868-6513cbb257da6</td>\n",
       "    </tr>\n",
       "    <tr>\n",
       "      <th>171325</th>\n",
       "      <td>1515915625589682336</td>\n",
       "      <td>1</td>\n",
       "      <td>18947.0</td>\n",
       "      <td>[4, 29, 313, 1574]</td>\n",
       "      <td>2023-09-27</td>\n",
       "      <td>1515915625959777467-13868-6513cbb257da6</td>\n",
       "    </tr>\n",
       "    <tr>\n",
       "      <th>171326</th>\n",
       "      <td>1515915625589682336</td>\n",
       "      <td>1</td>\n",
       "      <td>18947.0</td>\n",
       "      <td>[4, 29, 313, 1574]</td>\n",
       "      <td>2023-09-27</td>\n",
       "      <td>1515915625959777467-13868-6513cbb257da6</td>\n",
       "    </tr>\n",
       "    <tr>\n",
       "      <th>171327</th>\n",
       "      <td>1515915625589682336</td>\n",
       "      <td>1</td>\n",
       "      <td>20704.0</td>\n",
       "      <td>[4, 29, 313, 1574]</td>\n",
       "      <td>2023-09-27</td>\n",
       "      <td>1515915625959777467-13868-6513cbb257da6</td>\n",
       "    </tr>\n",
       "    <tr>\n",
       "      <th>171328</th>\n",
       "      <td>1515915625589682336</td>\n",
       "      <td>1</td>\n",
       "      <td>20704.0</td>\n",
       "      <td>[4, 29, 313, 1574]</td>\n",
       "      <td>2023-09-27</td>\n",
       "      <td>1515915625959777467-13868-6513cbb257da6</td>\n",
       "    </tr>\n",
       "    <tr>\n",
       "      <th>171434</th>\n",
       "      <td>1515915625959777467</td>\n",
       "      <td>1</td>\n",
       "      <td>43999.0</td>\n",
       "      <td>[4, 29, 313, 1574]</td>\n",
       "      <td>2023-09-27</td>\n",
       "      <td>1515915625959777467-13868-6513cbb257da6</td>\n",
       "    </tr>\n",
       "    <tr>\n",
       "      <th>171435</th>\n",
       "      <td>1515915625959777467</td>\n",
       "      <td>1</td>\n",
       "      <td>48499.0</td>\n",
       "      <td>[4, 29, 313, 1574]</td>\n",
       "      <td>2023-09-27</td>\n",
       "      <td>1515915625959777467-13868-6513cbb257da6</td>\n",
       "    </tr>\n",
       "    <tr>\n",
       "      <th>171436</th>\n",
       "      <td>1515915625959777467</td>\n",
       "      <td>1</td>\n",
       "      <td>52999.0</td>\n",
       "      <td>[4, 29, 313, 1574]</td>\n",
       "      <td>2023-09-27</td>\n",
       "      <td>1515915625959777467-13868-6513cbb257da6</td>\n",
       "    </tr>\n",
       "    <tr>\n",
       "      <th>181348</th>\n",
       "      <td>1515915625468142907</td>\n",
       "      <td>1</td>\n",
       "      <td>2879.0</td>\n",
       "      <td>[4, 29, 313, 1574]</td>\n",
       "      <td>2023-12-06</td>\n",
       "      <td>1515915625468142907-14252-65704c0bdd310</td>\n",
       "    </tr>\n",
       "    <tr>\n",
       "      <th>182767</th>\n",
       "      <td>1515915625927697840</td>\n",
       "      <td>1</td>\n",
       "      <td>9241.0</td>\n",
       "      <td>[4, 29, 313, 1574]</td>\n",
       "      <td>2023-12-18</td>\n",
       "      <td>1515915625927697840-14330-65806b91b396a</td>\n",
       "    </tr>\n",
       "    <tr>\n",
       "      <th>182768</th>\n",
       "      <td>1515915625927697840</td>\n",
       "      <td>1</td>\n",
       "      <td>9241.0</td>\n",
       "      <td>[4, 29, 313, 1574]</td>\n",
       "      <td>2023-12-18</td>\n",
       "      <td>1515915625927697840-14330-65806b91b396a</td>\n",
       "    </tr>\n",
       "    <tr>\n",
       "      <th>183759</th>\n",
       "      <td>1515915625660769903</td>\n",
       "      <td>1</td>\n",
       "      <td>41160.0</td>\n",
       "      <td>[4, 29, 313, 1574]</td>\n",
       "      <td>2023-12-21</td>\n",
       "      <td>1515915625660769903-14320-657c02501844d</td>\n",
       "    </tr>\n",
       "    <tr>\n",
       "      <th>183760</th>\n",
       "      <td>1515915625660769903</td>\n",
       "      <td>1</td>\n",
       "      <td>41160.0</td>\n",
       "      <td>[4, 29, 313, 1574]</td>\n",
       "      <td>2023-12-21</td>\n",
       "      <td>1515915625660769903-14320-657c02501844d</td>\n",
       "    </tr>\n",
       "    <tr>\n",
       "      <th>184389</th>\n",
       "      <td>1515915625507156992</td>\n",
       "      <td>1</td>\n",
       "      <td>15400.0</td>\n",
       "      <td>[4, 29, 313, 1574]</td>\n",
       "      <td>2023-12-22</td>\n",
       "      <td>1515915625507156992-14334-65814d95d6ce4</td>\n",
       "    </tr>\n",
       "    <tr>\n",
       "      <th>184390</th>\n",
       "      <td>1515915625507156992</td>\n",
       "      <td>1</td>\n",
       "      <td>15400.0</td>\n",
       "      <td>[4, 29, 313, 1574]</td>\n",
       "      <td>2023-12-22</td>\n",
       "      <td>1515915625507156992-14334-65814d95d6ce4</td>\n",
       "    </tr>\n",
       "    <tr>\n",
       "      <th>186733</th>\n",
       "      <td>1515915625553309277</td>\n",
       "      <td>1</td>\n",
       "      <td>24999.0</td>\n",
       "      <td>[4, 29, 313, 1574]</td>\n",
       "      <td>2023-12-24</td>\n",
       "      <td>1515915625553309277-14352-6585585d7a711</td>\n",
       "    </tr>\n",
       "    <tr>\n",
       "      <th>186734</th>\n",
       "      <td>1515915625553309277</td>\n",
       "      <td>1</td>\n",
       "      <td>21962.0</td>\n",
       "      <td>[4, 29, 313, 1574]</td>\n",
       "      <td>2023-12-24</td>\n",
       "      <td>1515915625553309277-14352-6585585d7a711</td>\n",
       "    </tr>\n",
       "    <tr>\n",
       "      <th>186735</th>\n",
       "      <td>1515915625553309277</td>\n",
       "      <td>1</td>\n",
       "      <td>21962.0</td>\n",
       "      <td>[4, 29, 313, 1574]</td>\n",
       "      <td>2023-12-24</td>\n",
       "      <td>1515915625553309277-14352-6585585d7a711</td>\n",
       "    </tr>\n",
       "    <tr>\n",
       "      <th>186736</th>\n",
       "      <td>1515915625553309277</td>\n",
       "      <td>1</td>\n",
       "      <td>85499.0</td>\n",
       "      <td>[4, 29, 313, 1574]</td>\n",
       "      <td>2023-12-24</td>\n",
       "      <td>1515915625553309277-14352-6585585d7a711</td>\n",
       "    </tr>\n",
       "    <tr>\n",
       "      <th>192748</th>\n",
       "      <td>1515915625559325926</td>\n",
       "      <td>1</td>\n",
       "      <td>5600.0</td>\n",
       "      <td>[4, 29, 313, 1574]</td>\n",
       "      <td>2024-01-08</td>\n",
       "      <td>1515915625559325926-14441-659bd1eb92f2f</td>\n",
       "    </tr>\n",
       "    <tr>\n",
       "      <th>196171</th>\n",
       "      <td>1515915625587920003</td>\n",
       "      <td>1</td>\n",
       "      <td>13999.0</td>\n",
       "      <td>[4, 29, 313, 1574]</td>\n",
       "      <td>2024-01-22</td>\n",
       "      <td>1515915625587920003-14513-65ae20cb6540e</td>\n",
       "    </tr>\n",
       "    <tr>\n",
       "      <th>196172</th>\n",
       "      <td>1515915625587920003</td>\n",
       "      <td>1</td>\n",
       "      <td>7840.0</td>\n",
       "      <td>[4, 29, 313, 1574]</td>\n",
       "      <td>2024-01-22</td>\n",
       "      <td>1515915625587920003-14513-65ae20cb6540e</td>\n",
       "    </tr>\n",
       "    <tr>\n",
       "      <th>201446</th>\n",
       "      <td>1515915625953187492</td>\n",
       "      <td>1</td>\n",
       "      <td>28400.0</td>\n",
       "      <td>[4, 29, 313, 1574]</td>\n",
       "      <td>2024-02-14</td>\n",
       "      <td>1515915625953187492-14488-65a79766e8625</td>\n",
       "    </tr>\n",
       "    <tr>\n",
       "      <th>201528</th>\n",
       "      <td>1515915626007437082</td>\n",
       "      <td>1</td>\n",
       "      <td>15904.0</td>\n",
       "      <td>[4, 29, 313, 1574]</td>\n",
       "      <td>2024-02-14</td>\n",
       "      <td>1515915625953187492-14488-65a79766e8625</td>\n",
       "    </tr>\n",
       "    <tr>\n",
       "      <th>201529</th>\n",
       "      <td>1515915626007437082</td>\n",
       "      <td>1</td>\n",
       "      <td>15904.0</td>\n",
       "      <td>[4, 29, 313, 1574]</td>\n",
       "      <td>2024-02-14</td>\n",
       "      <td>1515915625953187492-14488-65a79766e8625</td>\n",
       "    </tr>\n",
       "  </tbody>\n",
       "</table>\n",
       "</div>"
      ],
      "text/plain": [
       "                  client_id  quantity    price        category_ids  \\\n",
       "12994   1515915625494529950         1  16499.0  [4, 29, 313, 1574]   \n",
       "98921   1515915625474387397         1  16660.0  [4, 29, 313, 1574]   \n",
       "98922   1515915625474387397         1  16660.0  [4, 29, 313, 1574]   \n",
       "142203  1515915625468081528         1  22680.0  [4, 29, 313, 1574]   \n",
       "142204  1515915625468081528         1  22680.0  [4, 29, 313, 1574]   \n",
       "155219  1515915625590727241         1  15049.0  [4, 29, 313, 1574]   \n",
       "155220  1515915625590727241         1  15049.0  [4, 29, 313, 1574]   \n",
       "159176  1515915625502430512         1  13999.0  [4, 29, 313, 1574]   \n",
       "159177  1515915625502430512         1  13999.0  [4, 29, 313, 1574]   \n",
       "159465  1515915625776547099         1  19999.0  [4, 29, 313, 1574]   \n",
       "159941  1515915625726358492         1  20999.0  [4, 29, 313, 1574]   \n",
       "167074  1515915625980197822         1  11760.0  [4, 29, 313, 1574]   \n",
       "167075  1515915625980197822         1  11760.0  [4, 29, 313, 1574]   \n",
       "171323  1515915625589682336         1  17188.0  [4, 29, 313, 1574]   \n",
       "171324  1515915625589682336         1  17188.0  [4, 29, 313, 1574]   \n",
       "171325  1515915625589682336         1  18947.0  [4, 29, 313, 1574]   \n",
       "171326  1515915625589682336         1  18947.0  [4, 29, 313, 1574]   \n",
       "171327  1515915625589682336         1  20704.0  [4, 29, 313, 1574]   \n",
       "171328  1515915625589682336         1  20704.0  [4, 29, 313, 1574]   \n",
       "171434  1515915625959777467         1  43999.0  [4, 29, 313, 1574]   \n",
       "171435  1515915625959777467         1  48499.0  [4, 29, 313, 1574]   \n",
       "171436  1515915625959777467         1  52999.0  [4, 29, 313, 1574]   \n",
       "181348  1515915625468142907         1   2879.0  [4, 29, 313, 1574]   \n",
       "182767  1515915625927697840         1   9241.0  [4, 29, 313, 1574]   \n",
       "182768  1515915625927697840         1   9241.0  [4, 29, 313, 1574]   \n",
       "183759  1515915625660769903         1  41160.0  [4, 29, 313, 1574]   \n",
       "183760  1515915625660769903         1  41160.0  [4, 29, 313, 1574]   \n",
       "184389  1515915625507156992         1  15400.0  [4, 29, 313, 1574]   \n",
       "184390  1515915625507156992         1  15400.0  [4, 29, 313, 1574]   \n",
       "186733  1515915625553309277         1  24999.0  [4, 29, 313, 1574]   \n",
       "186734  1515915625553309277         1  21962.0  [4, 29, 313, 1574]   \n",
       "186735  1515915625553309277         1  21962.0  [4, 29, 313, 1574]   \n",
       "186736  1515915625553309277         1  85499.0  [4, 29, 313, 1574]   \n",
       "192748  1515915625559325926         1   5600.0  [4, 29, 313, 1574]   \n",
       "196171  1515915625587920003         1  13999.0  [4, 29, 313, 1574]   \n",
       "196172  1515915625587920003         1   7840.0  [4, 29, 313, 1574]   \n",
       "201446  1515915625953187492         1  28400.0  [4, 29, 313, 1574]   \n",
       "201528  1515915626007437082         1  15904.0  [4, 29, 313, 1574]   \n",
       "201529  1515915626007437082         1  15904.0  [4, 29, 313, 1574]   \n",
       "\n",
       "              date                               message_id  \n",
       "12994   2022-06-10   1515915625494529950-4832-62a1969869bb0  \n",
       "98921   2023-04-05  1515915625474387397-11527-642c1f61cbd80  \n",
       "98922   2023-04-05  1515915625474387397-11527-642c1f61cbd80  \n",
       "142203  2023-06-20  1515915625468081528-13372-649150b651ec0  \n",
       "142204  2023-06-20  1515915625468081528-13372-649150b651ec0  \n",
       "155219  2023-07-07  1515915625776568054-13456-64a7dde275979  \n",
       "155220  2023-07-07  1515915625776568054-13456-64a7dde275979  \n",
       "159176  2023-07-13  1515915625776547099-13471-64abf25c6fe22  \n",
       "159177  2023-07-13  1515915625776547099-13471-64abf25c6fe22  \n",
       "159465  2023-07-13  1515915625776547099-13471-64abf25c6fe22  \n",
       "159941  2023-07-18  1515915625491480139-13505-64b5065f990cd  \n",
       "167074  2023-08-29  1515915625980197822-13733-64edb408546b9  \n",
       "167075  2023-08-29  1515915625980197822-13733-64edb408546b9  \n",
       "171323  2023-09-27  1515915625959777467-13868-6513cbb257da6  \n",
       "171324  2023-09-27  1515915625959777467-13868-6513cbb257da6  \n",
       "171325  2023-09-27  1515915625959777467-13868-6513cbb257da6  \n",
       "171326  2023-09-27  1515915625959777467-13868-6513cbb257da6  \n",
       "171327  2023-09-27  1515915625959777467-13868-6513cbb257da6  \n",
       "171328  2023-09-27  1515915625959777467-13868-6513cbb257da6  \n",
       "171434  2023-09-27  1515915625959777467-13868-6513cbb257da6  \n",
       "171435  2023-09-27  1515915625959777467-13868-6513cbb257da6  \n",
       "171436  2023-09-27  1515915625959777467-13868-6513cbb257da6  \n",
       "181348  2023-12-06  1515915625468142907-14252-65704c0bdd310  \n",
       "182767  2023-12-18  1515915625927697840-14330-65806b91b396a  \n",
       "182768  2023-12-18  1515915625927697840-14330-65806b91b396a  \n",
       "183759  2023-12-21  1515915625660769903-14320-657c02501844d  \n",
       "183760  2023-12-21  1515915625660769903-14320-657c02501844d  \n",
       "184389  2023-12-22  1515915625507156992-14334-65814d95d6ce4  \n",
       "184390  2023-12-22  1515915625507156992-14334-65814d95d6ce4  \n",
       "186733  2023-12-24  1515915625553309277-14352-6585585d7a711  \n",
       "186734  2023-12-24  1515915625553309277-14352-6585585d7a711  \n",
       "186735  2023-12-24  1515915625553309277-14352-6585585d7a711  \n",
       "186736  2023-12-24  1515915625553309277-14352-6585585d7a711  \n",
       "192748  2024-01-08  1515915625559325926-14441-659bd1eb92f2f  \n",
       "196171  2024-01-22  1515915625587920003-14513-65ae20cb6540e  \n",
       "196172  2024-01-22  1515915625587920003-14513-65ae20cb6540e  \n",
       "201446  2024-02-14  1515915625953187492-14488-65a79766e8625  \n",
       "201528  2024-02-14  1515915625953187492-14488-65a79766e8625  \n",
       "201529  2024-02-14  1515915625953187492-14488-65a79766e8625  "
      ]
     },
     "execution_count": 274,
     "metadata": {},
     "output_type": "execute_result"
    }
   ],
   "source": [
    "#Наконец, рассмотрим, были ли еще покупки аномально дорогого товара за исследуемый период\n",
    "target_set = set([4, 29, 313, 1574])\n",
    "df[df['category_ids'].apply(set) == target_set]"
   ]
  },
  {
   "cell_type": "markdown",
   "id": "93cae215-7bda-4b5e-b190-84a2f40fd0ab",
   "metadata": {},
   "source": [
    "Покупки были, при этом отметим большой разброс цен на товар. Очевидно, что категория не указывает в конечном счете на конкретный товар, а демонстрирует достаточно широкий диапазон товаров разной ценовой категории.\n",
    "\n",
    "Следовательно, оставляем данное значение, т.к. потенциально в дальнейшем модель может сталкиваться с товарами очень разного ценового сегмента."
   ]
  },
  {
   "cell_type": "markdown",
   "id": "1b4157ef-50a9-4371-8809-97ad59abc57f",
   "metadata": {},
   "source": [
    "Т.к. в сопроводительной информации указывалось, что количество значений в списке в данном столбце иногда может стать меньше 4, рассмотрим, сколько в целом сейчас таких данных в датасете."
   ]
  },
  {
   "cell_type": "code",
   "execution_count": 275,
   "id": "4403c896-1ddc-4e61-83b5-99faa4885ada",
   "metadata": {},
   "outputs": [
    {
     "data": {
      "text/html": [
       "<div>\n",
       "<style scoped>\n",
       "    .dataframe tbody tr th:only-of-type {\n",
       "        vertical-align: middle;\n",
       "    }\n",
       "\n",
       "    .dataframe tbody tr th {\n",
       "        vertical-align: top;\n",
       "    }\n",
       "\n",
       "    .dataframe thead th {\n",
       "        text-align: right;\n",
       "    }\n",
       "</style>\n",
       "<table border=\"1\" class=\"dataframe\">\n",
       "  <thead>\n",
       "    <tr style=\"text-align: right;\">\n",
       "      <th></th>\n",
       "      <th>client_id</th>\n",
       "      <th>quantity</th>\n",
       "      <th>price</th>\n",
       "      <th>category_ids</th>\n",
       "      <th>date</th>\n",
       "      <th>message_id</th>\n",
       "    </tr>\n",
       "  </thead>\n",
       "  <tbody>\n",
       "    <tr>\n",
       "      <th>55348</th>\n",
       "      <td>1515915625489465791</td>\n",
       "      <td>1</td>\n",
       "      <td>193.0</td>\n",
       "      <td>[4, 44, 428]</td>\n",
       "      <td>2022-11-15</td>\n",
       "      <td>1515915625489465791-7845-6373358bbb68e</td>\n",
       "    </tr>\n",
       "    <tr>\n",
       "      <th>55349</th>\n",
       "      <td>1515915625489465791</td>\n",
       "      <td>1</td>\n",
       "      <td>193.0</td>\n",
       "      <td>[4, 44, 428]</td>\n",
       "      <td>2022-11-15</td>\n",
       "      <td>1515915625489465791-7845-6373358bbb68e</td>\n",
       "    </tr>\n",
       "    <tr>\n",
       "      <th>56942</th>\n",
       "      <td>1515915625602272264</td>\n",
       "      <td>1</td>\n",
       "      <td>28.0</td>\n",
       "      <td>[4, 44, 1594]</td>\n",
       "      <td>2022-11-15</td>\n",
       "      <td>1515915625491914808-7845-637335966f02d</td>\n",
       "    </tr>\n",
       "    <tr>\n",
       "      <th>56943</th>\n",
       "      <td>1515915625602272264</td>\n",
       "      <td>1</td>\n",
       "      <td>28.0</td>\n",
       "      <td>[4, 44, 1594]</td>\n",
       "      <td>2022-11-15</td>\n",
       "      <td>1515915625491914808-7845-637335966f02d</td>\n",
       "    </tr>\n",
       "    <tr>\n",
       "      <th>57592</th>\n",
       "      <td>1515915625468142032</td>\n",
       "      <td>1</td>\n",
       "      <td>39.0</td>\n",
       "      <td>[4, 44, 1594]</td>\n",
       "      <td>2022-11-16</td>\n",
       "      <td>1515915625468142032-7816-6371eb13cdaed</td>\n",
       "    </tr>\n",
       "    <tr>\n",
       "      <th>...</th>\n",
       "      <td>...</td>\n",
       "      <td>...</td>\n",
       "      <td>...</td>\n",
       "      <td>...</td>\n",
       "      <td>...</td>\n",
       "      <td>...</td>\n",
       "    </tr>\n",
       "    <tr>\n",
       "      <th>201643</th>\n",
       "      <td>1515915625585044070</td>\n",
       "      <td>1</td>\n",
       "      <td>199.0</td>\n",
       "      <td>[4, 44, 430]</td>\n",
       "      <td>2024-02-15</td>\n",
       "      <td>1515915625585044070-14656-65cdbea44cf9e</td>\n",
       "    </tr>\n",
       "    <tr>\n",
       "      <th>202022</th>\n",
       "      <td>1515915625780975466</td>\n",
       "      <td>1</td>\n",
       "      <td>69.0</td>\n",
       "      <td>[4, 44, 491]</td>\n",
       "      <td>2024-02-16</td>\n",
       "      <td>1515915625780975466-14648-65cdb6ee6aaf8</td>\n",
       "    </tr>\n",
       "    <tr>\n",
       "      <th>202023</th>\n",
       "      <td>1515915625780975466</td>\n",
       "      <td>1</td>\n",
       "      <td>69.0</td>\n",
       "      <td>[4, 44, 491]</td>\n",
       "      <td>2024-02-16</td>\n",
       "      <td>1515915625780975466-14648-65cdb6ee6aaf8</td>\n",
       "    </tr>\n",
       "    <tr>\n",
       "      <th>202028</th>\n",
       "      <td>1515915625785777568</td>\n",
       "      <td>1</td>\n",
       "      <td>99.0</td>\n",
       "      <td>[4, 29, 503]</td>\n",
       "      <td>2024-02-16</td>\n",
       "      <td>1515915625785777568-14628-65c9ec6d23ac1</td>\n",
       "    </tr>\n",
       "    <tr>\n",
       "      <th>202029</th>\n",
       "      <td>1515915625785777568</td>\n",
       "      <td>1</td>\n",
       "      <td>99.0</td>\n",
       "      <td>[4, 29, 503]</td>\n",
       "      <td>2024-02-16</td>\n",
       "      <td>1515915625785777568-14628-65c9ec6d23ac1</td>\n",
       "    </tr>\n",
       "  </tbody>\n",
       "</table>\n",
       "<p>1356 rows × 6 columns</p>\n",
       "</div>"
      ],
      "text/plain": [
       "                  client_id  quantity  price   category_ids        date  \\\n",
       "55348   1515915625489465791         1  193.0   [4, 44, 428]  2022-11-15   \n",
       "55349   1515915625489465791         1  193.0   [4, 44, 428]  2022-11-15   \n",
       "56942   1515915625602272264         1   28.0  [4, 44, 1594]  2022-11-15   \n",
       "56943   1515915625602272264         1   28.0  [4, 44, 1594]  2022-11-15   \n",
       "57592   1515915625468142032         1   39.0  [4, 44, 1594]  2022-11-16   \n",
       "...                     ...       ...    ...            ...         ...   \n",
       "201643  1515915625585044070         1  199.0   [4, 44, 430]  2024-02-15   \n",
       "202022  1515915625780975466         1   69.0   [4, 44, 491]  2024-02-16   \n",
       "202023  1515915625780975466         1   69.0   [4, 44, 491]  2024-02-16   \n",
       "202028  1515915625785777568         1   99.0   [4, 29, 503]  2024-02-16   \n",
       "202029  1515915625785777568         1   99.0   [4, 29, 503]  2024-02-16   \n",
       "\n",
       "                                     message_id  \n",
       "55348    1515915625489465791-7845-6373358bbb68e  \n",
       "55349    1515915625489465791-7845-6373358bbb68e  \n",
       "56942    1515915625491914808-7845-637335966f02d  \n",
       "56943    1515915625491914808-7845-637335966f02d  \n",
       "57592    1515915625468142032-7816-6371eb13cdaed  \n",
       "...                                         ...  \n",
       "201643  1515915625585044070-14656-65cdbea44cf9e  \n",
       "202022  1515915625780975466-14648-65cdb6ee6aaf8  \n",
       "202023  1515915625780975466-14648-65cdb6ee6aaf8  \n",
       "202028  1515915625785777568-14628-65c9ec6d23ac1  \n",
       "202029  1515915625785777568-14628-65c9ec6d23ac1  \n",
       "\n",
       "[1356 rows x 6 columns]"
      ]
     },
     "execution_count": 275,
     "metadata": {},
     "output_type": "execute_result"
    }
   ],
   "source": [
    "df[df['category_ids'].apply(lambda x: len(x) < 4)]"
   ]
  },
  {
   "cell_type": "code",
   "execution_count": 276,
   "id": "c4bb39a1-a3d9-4624-9ec1-f1f8b90d7458",
   "metadata": {},
   "outputs": [
    {
     "data": {
      "text/plain": [
       "category_ids\n",
       "[4, 44, 428]          223\n",
       "[4, 44, 501]          177\n",
       "[4, 44, 1381]         159\n",
       "[4, 44, 491]          141\n",
       "[4, 44, 1594]         130\n",
       "[4, 44, 489]           93\n",
       "[4, 44, 430]           87\n",
       "[4, 44, 490]           77\n",
       "[4, 44, 1097]          42\n",
       "[4, 44, 549]           35\n",
       "[4, 44, 493]           27\n",
       "[4, 44, 1564]          26\n",
       "[4, 44, 1571]          25\n",
       "[4, 29, 503]           24\n",
       "[4, 44, 989]           17\n",
       "[4, 44, 528]           16\n",
       "[4, 44, 494]           16\n",
       "[5562, 5597, 5782]     14\n",
       "[4, 44, 492]           11\n",
       "[4, 30, 503]            8\n",
       "[4, 1822, 499]          7\n",
       "[4, 44, 1600]           1\n",
       "Name: count, dtype: int64"
      ]
     },
     "execution_count": 276,
     "metadata": {},
     "output_type": "execute_result"
    }
   ],
   "source": [
    "df[df['category_ids'].apply(lambda x: len(x) < 4)]['category_ids'].value_counts()"
   ]
  },
  {
   "cell_type": "markdown",
   "id": "be8609aa-f6c8-4f34-b52b-45a61acc4c66",
   "metadata": {},
   "source": [
    "Данных немного, однако отметим, что они встречаются за разные периоды времени (и за 2022 год, и за 2024). Визуально проблематично предположить, какой именно уровень вложения был утерян. Однако, предположительно, утеряно не первое значение. Соответственно, для единообразия, преобразуем данные id категорий, дополнив их необходимым количеством нулей на конце."
   ]
  },
  {
   "cell_type": "code",
   "execution_count": 277,
   "id": "24e9dce8-5b57-4c47-be41-4b1b60b57e69",
   "metadata": {},
   "outputs": [],
   "source": [
    "df['category_ids'] = df['category_ids'].apply(lambda x: x + [0] * (4 - len(x)))"
   ]
  },
  {
   "cell_type": "markdown",
   "id": "bc39595f-0166-41df-89c6-2e1b931c9766",
   "metadata": {},
   "source": [
    "Теперь все значения в данном столбце приведены к единому виду."
   ]
  },
  {
   "cell_type": "markdown",
   "id": "aeb11b62-473c-4413-9238-dcf700111153",
   "metadata": {},
   "source": [
    "Наконец, приведем столбец date к корректному виду"
   ]
  },
  {
   "cell_type": "code",
   "execution_count": 278,
   "id": "67142178-552f-4049-a331-80580dd625eb",
   "metadata": {},
   "outputs": [],
   "source": [
    "df['date'] = pd.to_datetime(df['date'], format='%Y-%m-%d')\n",
    "messages['date'] = pd.to_datetime(messages['date'], format='%Y-%m-%d')"
   ]
  },
  {
   "cell_type": "markdown",
   "id": "a2b2b130-ab90-4e88-9523-55b528889207",
   "metadata": {},
   "source": [
    "## Исследовательский анализ данных"
   ]
  },
  {
   "cell_type": "markdown",
   "id": "059362c4-3c03-433e-9186-b690826d4b50",
   "metadata": {},
   "source": [
    "Для начала оценим в целом, как распределяются данные по ценам на товары:"
   ]
  },
  {
   "cell_type": "code",
   "execution_count": 279,
   "id": "0193ed0c-df79-4ddb-bd68-9cff005dd734",
   "metadata": {},
   "outputs": [
    {
     "data": {
      "text/plain": [
       "<Axes: >"
      ]
     },
     "execution_count": 279,
     "metadata": {},
     "output_type": "execute_result"
    },
    {
     "data": {
      "image/png": "[encoded data removed]",
      "text/plain": [
       "<Figure size 640x480 with 1 Axes>"
      ]
     },
     "metadata": {},
     "output_type": "display_data"
    }
   ],
   "source": [
    "#В целом\n",
    "df['price'].hist()"
   ]
  },
  {
   "cell_type": "code",
   "execution_count": 280,
   "id": "09d58b90-9c5d-4168-9105-dea89169d4e0",
   "metadata": {},
   "outputs": [
    {
     "data": {
      "text/plain": [
       "<Axes: >"
      ]
     },
     "execution_count": 280,
     "metadata": {},
     "output_type": "execute_result"
    },
    {
     "data": {
      "image/png": "[encoded data removed]",
      "text/plain": [
       "<Figure size 640x480 with 1 Axes>"
      ]
     },
     "metadata": {},
     "output_type": "display_data"
    }
   ],
   "source": [
    "#В диапазоне до 3 квартиля\n",
    "df['price'].hist(range=(1, 1699))"
   ]
  },
  {
   "cell_type": "code",
   "execution_count": 281,
   "id": "854697eb-7e84-4013-b65b-5e2370bc9f12",
   "metadata": {},
   "outputs": [
    {
     "data": {
      "text/plain": [
       "<Axes: >"
      ]
     },
     "execution_count": 281,
     "metadata": {},
     "output_type": "execute_result"
    },
    {
     "data": {
      "image/png": "[encoded data removed]",
      "text/plain": [
       "<Figure size 640x480 with 1 Axes>"
      ]
     },
     "metadata": {},
     "output_type": "display_data"
    }
   ],
   "source": [
    "#В диапазоне до 1 квартиля\n",
    "df['price'].hist(range=(1, 352))"
   ]
  },
  {
   "cell_type": "markdown",
   "id": "607401d8-f9b2-44e4-aed8-65d2e1f49c12",
   "metadata": {},
   "source": [
    "Очевидно, что в основном интернет-магазин торгует достаточно недорогими товарами. Однако учтем, что это цена за единицу товара. Соответственно, эти данные не отражают реальную сумму чека покупателя. Кроме того, как ранее установили, в ряде случаев клиенты снова покупают тот же самый товар в этот же день, а также, что цены на один и тот же товар могут сильно разнится (даже в рамках одного дня). Соответственно, цены не отражают реальный уровень денежного оборота и, возможно, в текущем виде не позволят модели более объективно рассматривать данные.\n",
    "\n",
    "Соответственно, потенциально можем в дальнейшем (при низких результатах работы модели) попробовать улучшить ее работу преобразованием данных с группировкой их по пользователям.\n",
    "\n",
    "Но уже на текущий момент можем добавить столбец \"сумма покупки\" для упрощения дальнейшего анализа данных."
   ]
  },
  {
   "cell_type": "code",
   "execution_count": 282,
   "id": "3083cbd7-0715-423f-a13c-759ed8e31c0f",
   "metadata": {},
   "outputs": [
    {
     "data": {
      "text/html": [
       "<div>\n",
       "<style scoped>\n",
       "    .dataframe tbody tr th:only-of-type {\n",
       "        vertical-align: middle;\n",
       "    }\n",
       "\n",
       "    .dataframe tbody tr th {\n",
       "        vertical-align: top;\n",
       "    }\n",
       "\n",
       "    .dataframe thead th {\n",
       "        text-align: right;\n",
       "    }\n",
       "</style>\n",
       "<table border=\"1\" class=\"dataframe\">\n",
       "  <thead>\n",
       "    <tr style=\"text-align: right;\">\n",
       "      <th></th>\n",
       "      <th>client_id</th>\n",
       "      <th>quantity</th>\n",
       "      <th>price</th>\n",
       "      <th>category_ids</th>\n",
       "      <th>date</th>\n",
       "      <th>message_id</th>\n",
       "      <th>total</th>\n",
       "    </tr>\n",
       "  </thead>\n",
       "  <tbody>\n",
       "    <tr>\n",
       "      <th>0</th>\n",
       "      <td>1515915625468169594</td>\n",
       "      <td>1</td>\n",
       "      <td>1999.0</td>\n",
       "      <td>[4, 28, 57, 431]</td>\n",
       "      <td>2022-05-16</td>\n",
       "      <td>1515915625468169594-4301-627b661e9736d</td>\n",
       "      <td>1999.0</td>\n",
       "    </tr>\n",
       "    <tr>\n",
       "      <th>1</th>\n",
       "      <td>1515915625468169594</td>\n",
       "      <td>1</td>\n",
       "      <td>2499.0</td>\n",
       "      <td>[4, 28, 57, 431]</td>\n",
       "      <td>2022-05-16</td>\n",
       "      <td>1515915625468169594-4301-627b661e9736d</td>\n",
       "      <td>2499.0</td>\n",
       "    </tr>\n",
       "    <tr>\n",
       "      <th>2</th>\n",
       "      <td>1515915625471138230</td>\n",
       "      <td>1</td>\n",
       "      <td>6499.0</td>\n",
       "      <td>[4, 28, 57, 431]</td>\n",
       "      <td>2022-05-16</td>\n",
       "      <td>1515915625471138230-4437-6282242f27843</td>\n",
       "      <td>6499.0</td>\n",
       "    </tr>\n",
       "    <tr>\n",
       "      <th>3</th>\n",
       "      <td>1515915625471138230</td>\n",
       "      <td>1</td>\n",
       "      <td>4999.0</td>\n",
       "      <td>[4, 28, 244, 432]</td>\n",
       "      <td>2022-05-16</td>\n",
       "      <td>1515915625471138230-4437-6282242f27843</td>\n",
       "      <td>4999.0</td>\n",
       "    </tr>\n",
       "    <tr>\n",
       "      <th>4</th>\n",
       "      <td>1515915625471138230</td>\n",
       "      <td>1</td>\n",
       "      <td>4999.0</td>\n",
       "      <td>[4, 28, 49, 413]</td>\n",
       "      <td>2022-05-16</td>\n",
       "      <td>1515915625471138230-4437-6282242f27843</td>\n",
       "      <td>4999.0</td>\n",
       "    </tr>\n",
       "  </tbody>\n",
       "</table>\n",
       "</div>"
      ],
      "text/plain": [
       "             client_id  quantity   price       category_ids       date  \\\n",
       "0  1515915625468169594         1  1999.0   [4, 28, 57, 431] 2022-05-16   \n",
       "1  1515915625468169594         1  2499.0   [4, 28, 57, 431] 2022-05-16   \n",
       "2  1515915625471138230         1  6499.0   [4, 28, 57, 431] 2022-05-16   \n",
       "3  1515915625471138230         1  4999.0  [4, 28, 244, 432] 2022-05-16   \n",
       "4  1515915625471138230         1  4999.0   [4, 28, 49, 413] 2022-05-16   \n",
       "\n",
       "                               message_id   total  \n",
       "0  1515915625468169594-4301-627b661e9736d  1999.0  \n",
       "1  1515915625468169594-4301-627b661e9736d  2499.0  \n",
       "2  1515915625471138230-4437-6282242f27843  6499.0  \n",
       "3  1515915625471138230-4437-6282242f27843  4999.0  \n",
       "4  1515915625471138230-4437-6282242f27843  4999.0  "
      ]
     },
     "execution_count": 282,
     "metadata": {},
     "output_type": "execute_result"
    }
   ],
   "source": [
    "df['total'] = df['price'] * df['quantity']\n",
    "\n",
    "df.head()"
   ]
  },
  {
   "cell_type": "markdown",
   "id": "f9b118d5-afa0-41f5-87ba-44212f0cef8c",
   "metadata": {},
   "source": [
    "Оценим, как в целом распределяются покупки по количеству и сумме по годам."
   ]
  },
  {
   "cell_type": "code",
   "execution_count": 283,
   "id": "d83a7b77-a1c8-48d7-b0fd-1a35b4e38ef4",
   "metadata": {},
   "outputs": [
    {
     "data": {
      "text/html": [
       "<div>\n",
       "<style scoped>\n",
       "    .dataframe tbody tr th:only-of-type {\n",
       "        vertical-align: middle;\n",
       "    }\n",
       "\n",
       "    .dataframe tbody tr th {\n",
       "        vertical-align: top;\n",
       "    }\n",
       "\n",
       "    .dataframe thead th {\n",
       "        text-align: right;\n",
       "    }\n",
       "</style>\n",
       "<table border=\"1\" class=\"dataframe\">\n",
       "  <thead>\n",
       "    <tr style=\"text-align: right;\">\n",
       "      <th></th>\n",
       "      <th>quantity</th>\n",
       "      <th>total</th>\n",
       "    </tr>\n",
       "    <tr>\n",
       "      <th>year</th>\n",
       "      <th></th>\n",
       "      <th></th>\n",
       "    </tr>\n",
       "  </thead>\n",
       "  <tbody>\n",
       "    <tr>\n",
       "      <th>2022</th>\n",
       "      <td>82410</td>\n",
       "      <td>107092805.0</td>\n",
       "    </tr>\n",
       "    <tr>\n",
       "      <th>2023</th>\n",
       "      <td>110167</td>\n",
       "      <td>122146448.0</td>\n",
       "    </tr>\n",
       "    <tr>\n",
       "      <th>2024</th>\n",
       "      <td>10942</td>\n",
       "      <td>13305257.0</td>\n",
       "    </tr>\n",
       "  </tbody>\n",
       "</table>\n",
       "</div>"
      ],
      "text/plain": [
       "      quantity        total\n",
       "year                       \n",
       "2022     82410  107092805.0\n",
       "2023    110167  122146448.0\n",
       "2024     10942   13305257.0"
      ]
     },
     "execution_count": 283,
     "metadata": {},
     "output_type": "execute_result"
    }
   ],
   "source": [
    "df_t = df\n",
    "df_t['year'] = df_t['date'].dt.year\n",
    "\n",
    "df_t_gb = df_t.groupby('year')[['quantity', 'total']].sum()\n",
    "df_t_gb"
   ]
  },
  {
   "cell_type": "code",
   "execution_count": 284,
   "id": "cafc080c-4837-4d0d-89f6-e33281ebafce",
   "metadata": {},
   "outputs": [
    {
     "data": {
      "image/png": "[encoded data removed]",
      "text/plain": [
       "<Figure size 1500x1000 with 2 Axes>"
      ]
     },
     "metadata": {},
     "output_type": "display_data"
    }
   ],
   "source": [
    "fig, axes = plt.subplots(nrows=1, ncols=2, figsize=(15,10))\n",
    "plt.subplots_adjust(wspace=1)\n",
    "\n",
    "axes[0].pie(df_t_gb['quantity'], autopct='%1.1f%%', labels=df_t_gb['quantity'].index)\n",
    "axes[0].set_title('Объем товарооборота')\n",
    "\n",
    "axes[1].pie(df_t_gb['total'], autopct='%1.1f%%', labels=df_t_gb['total'].index)\n",
    "axes[1].set_title('Сумма выручки')\n",
    "\n",
    "\n",
    "plt.show()"
   ]
  },
  {
   "cell_type": "markdown",
   "id": "863e5c31-6438-4d91-8a0b-02c265e569fc",
   "metadata": {},
   "source": [
    "Отметим как рост товарооборота, так и выручки с 2022 на 2023 год. При этом отметим, что в относительных значениях количество покупаемых товаров выросло значительнее чем объем выручки. Вероятно, это связано с особенностями ценообразования, а также общей ценовой и ассортиментной политикой.\n",
    "\n",
    "Однако доля 2024 года слишком незначительна. Вероятно, это связано с нехваткой данных за текущий год. Проверим, сколько в целом имеется покупок за каждый из годов."
   ]
  },
  {
   "cell_type": "code",
   "execution_count": 285,
   "id": "45b46d68-bc10-4103-9b9d-a1a53415b6a1",
   "metadata": {},
   "outputs": [
    {
     "data": {
      "text/plain": [
       "year\n",
       "2022     81621\n",
       "2023    109680\n",
       "2024     10907\n",
       "Name: client_id, dtype: int64"
      ]
     },
     "execution_count": 285,
     "metadata": {},
     "output_type": "execute_result"
    }
   ],
   "source": [
    "df_t.groupby('year')['client_id'].count()"
   ]
  },
  {
   "cell_type": "markdown",
   "id": "4aaaa91b-d681-4846-914b-f236042ddcbe",
   "metadata": {},
   "source": [
    "Действительно, за 2024 год данных значительно меньше, а 2023 показал прирост к 2022. Однако возможно это связано не с увеличением количества покупок старыми клиентами, а притоком новых.\n",
    "\n",
    "Оценим количество уникальных клиентов за каждый год."
   ]
  },
  {
   "cell_type": "code",
   "execution_count": 286,
   "id": "aaba5c08-4bc5-4e7e-9467-656182ac2ec1",
   "metadata": {},
   "outputs": [
    {
     "data": {
      "text/plain": [
       "year\n",
       "2022    25459\n",
       "2023    24561\n",
       "2024     2517\n",
       "Name: client_id, dtype: int64"
      ]
     },
     "execution_count": 286,
     "metadata": {},
     "output_type": "execute_result"
    }
   ],
   "source": [
    "df_t.groupby('year')['client_id'].nunique()"
   ]
  },
  {
   "cell_type": "markdown",
   "id": "c7356523-e168-47aa-89a6-62d73182e2a5",
   "metadata": {},
   "source": [
    "Отметим, что в 2023 году количество уникальных клиентов уменьшилось практически на 1 тысячу в сравнении с 2022. Следовательно, может предполагать (с учетом общего количества покупок, трех квартилей количества покупаемых товаров и количества уникальных покупателей), что либо вырос средний чек (покупатель за раз приобретает больше товаров), либо они стали чаще возвращаться.\n",
    "\n",
    "Вероятнее первое, т.к. в дс target ранее отмечали, что подавляющее большинство клиентов не возвращаются. Вероятно, обучение модели и оценка значимости признаков позволит выявить неявные на текущем этапе закономерности, которые позволят улучшить маркетинговые активности."
   ]
  },
  {
   "cell_type": "code",
   "execution_count": 287,
   "id": "12042d01-259f-4d8d-b24a-6d9d0d816bcd",
   "metadata": {},
   "outputs": [
    {
     "name": "stdout",
     "output_type": "stream",
     "text": [
      "<class 'pandas.core.frame.DataFrame'>\n",
      "Index: 3 entries, 2022 to 2024\n",
      "Data columns (total 2 columns):\n",
      " #   Column    Non-Null Count  Dtype  \n",
      "---  ------    --------------  -----  \n",
      " 0   quantity  3 non-null      int64  \n",
      " 1   total     3 non-null      float64\n",
      "dtypes: float64(1), int64(1)\n",
      "memory usage: 60.0 bytes\n"
     ]
    }
   ],
   "source": [
    "df_t_gb.info()"
   ]
  },
  {
   "cell_type": "markdown",
   "id": "eaaf15be-5b6d-49d9-9007-95950e3b336d",
   "metadata": {},
   "source": [
    "## Проверка данных на мультиколлинеарность"
   ]
  },
  {
   "cell_type": "markdown",
   "id": "49a9a44b-f000-4b4a-bd96-701dc6028ad2",
   "metadata": {},
   "source": [
    "Корреляционный анализ будем проводить с помощью построения матрицы phik, т.к. она учитывает не только количественные, но и качественные признаки.\n",
    "\n",
    "Оценим текущие данные на наличие мультиколлинеарности. Исключаем столбцы client_id и message_id из-за их большого объема уникальных значений, но малой информативности в текущем виде для модели.\n",
    "\n",
    "Т.к. в исходных данных есть столбец category_ids, имеющий тип данных list, построить матрицу с ним не получится. Однако возможно наличие взаимосвязи этого параметра с, например, ценой, соответственно эти данные необходимо также рассмотреть. Кроме того, нам известно, что нумерация категорий сквозная, т.е. одно и тоже число на разных уровнях будет означать одну и ту же категорию/подкатегорию. Соответственно, для анализа сформируем отдельный датасет, в котором разобъем category_ids на отдельные строки."
   ]
  },
  {
   "cell_type": "code",
   "execution_count": 288,
   "id": "291b1c77-aff9-410d-8611-3959c1af604d",
   "metadata": {},
   "outputs": [
    {
     "data": {
      "text/html": [
       "<div>\n",
       "<style scoped>\n",
       "    .dataframe tbody tr th:only-of-type {\n",
       "        vertical-align: middle;\n",
       "    }\n",
       "\n",
       "    .dataframe tbody tr th {\n",
       "        vertical-align: top;\n",
       "    }\n",
       "\n",
       "    .dataframe thead th {\n",
       "        text-align: right;\n",
       "    }\n",
       "</style>\n",
       "<table border=\"1\" class=\"dataframe\">\n",
       "  <thead>\n",
       "    <tr style=\"text-align: right;\">\n",
       "      <th></th>\n",
       "      <th>client_id</th>\n",
       "      <th>quantity</th>\n",
       "      <th>price</th>\n",
       "      <th>category_ids</th>\n",
       "      <th>date</th>\n",
       "      <th>message_id</th>\n",
       "      <th>total</th>\n",
       "      <th>year</th>\n",
       "    </tr>\n",
       "  </thead>\n",
       "  <tbody>\n",
       "    <tr>\n",
       "      <th>0</th>\n",
       "      <td>1515915625468169594</td>\n",
       "      <td>1</td>\n",
       "      <td>1999.0</td>\n",
       "      <td>4</td>\n",
       "      <td>2022-05-16</td>\n",
       "      <td>1515915625468169594-4301-627b661e9736d</td>\n",
       "      <td>1999.0</td>\n",
       "      <td>2022</td>\n",
       "    </tr>\n",
       "    <tr>\n",
       "      <th>0</th>\n",
       "      <td>1515915625468169594</td>\n",
       "      <td>1</td>\n",
       "      <td>1999.0</td>\n",
       "      <td>28</td>\n",
       "      <td>2022-05-16</td>\n",
       "      <td>1515915625468169594-4301-627b661e9736d</td>\n",
       "      <td>1999.0</td>\n",
       "      <td>2022</td>\n",
       "    </tr>\n",
       "    <tr>\n",
       "      <th>0</th>\n",
       "      <td>1515915625468169594</td>\n",
       "      <td>1</td>\n",
       "      <td>1999.0</td>\n",
       "      <td>57</td>\n",
       "      <td>2022-05-16</td>\n",
       "      <td>1515915625468169594-4301-627b661e9736d</td>\n",
       "      <td>1999.0</td>\n",
       "      <td>2022</td>\n",
       "    </tr>\n",
       "    <tr>\n",
       "      <th>0</th>\n",
       "      <td>1515915625468169594</td>\n",
       "      <td>1</td>\n",
       "      <td>1999.0</td>\n",
       "      <td>431</td>\n",
       "      <td>2022-05-16</td>\n",
       "      <td>1515915625468169594-4301-627b661e9736d</td>\n",
       "      <td>1999.0</td>\n",
       "      <td>2022</td>\n",
       "    </tr>\n",
       "    <tr>\n",
       "      <th>1</th>\n",
       "      <td>1515915625468169594</td>\n",
       "      <td>1</td>\n",
       "      <td>2499.0</td>\n",
       "      <td>4</td>\n",
       "      <td>2022-05-16</td>\n",
       "      <td>1515915625468169594-4301-627b661e9736d</td>\n",
       "      <td>2499.0</td>\n",
       "      <td>2022</td>\n",
       "    </tr>\n",
       "    <tr>\n",
       "      <th>...</th>\n",
       "      <td>...</td>\n",
       "      <td>...</td>\n",
       "      <td>...</td>\n",
       "      <td>...</td>\n",
       "      <td>...</td>\n",
       "      <td>...</td>\n",
       "      <td>...</td>\n",
       "      <td>...</td>\n",
       "    </tr>\n",
       "    <tr>\n",
       "      <th>202206</th>\n",
       "      <td>1515915626010443527</td>\n",
       "      <td>1</td>\n",
       "      <td>1999.0</td>\n",
       "      <td>446</td>\n",
       "      <td>2024-02-16</td>\n",
       "      <td>1515915625766077627-14668-65cf5246bd490</td>\n",
       "      <td>1999.0</td>\n",
       "      <td>2024</td>\n",
       "    </tr>\n",
       "    <tr>\n",
       "      <th>202207</th>\n",
       "      <td>1515915626010443624</td>\n",
       "      <td>1</td>\n",
       "      <td>999.0</td>\n",
       "      <td>4</td>\n",
       "      <td>2024-02-16</td>\n",
       "      <td>1515915625488468007-14668-65cf5234b1295</td>\n",
       "      <td>999.0</td>\n",
       "      <td>2024</td>\n",
       "    </tr>\n",
       "    <tr>\n",
       "      <th>202207</th>\n",
       "      <td>1515915626010443624</td>\n",
       "      <td>1</td>\n",
       "      <td>999.0</td>\n",
       "      <td>28</td>\n",
       "      <td>2024-02-16</td>\n",
       "      <td>1515915625488468007-14668-65cf5234b1295</td>\n",
       "      <td>999.0</td>\n",
       "      <td>2024</td>\n",
       "    </tr>\n",
       "    <tr>\n",
       "      <th>202207</th>\n",
       "      <td>1515915626010443624</td>\n",
       "      <td>1</td>\n",
       "      <td>999.0</td>\n",
       "      <td>62</td>\n",
       "      <td>2024-02-16</td>\n",
       "      <td>1515915625488468007-14668-65cf5234b1295</td>\n",
       "      <td>999.0</td>\n",
       "      <td>2024</td>\n",
       "    </tr>\n",
       "    <tr>\n",
       "      <th>202207</th>\n",
       "      <td>1515915626010443624</td>\n",
       "      <td>1</td>\n",
       "      <td>999.0</td>\n",
       "      <td>656</td>\n",
       "      <td>2024-02-16</td>\n",
       "      <td>1515915625488468007-14668-65cf5234b1295</td>\n",
       "      <td>999.0</td>\n",
       "      <td>2024</td>\n",
       "    </tr>\n",
       "  </tbody>\n",
       "</table>\n",
       "<p>809350 rows × 8 columns</p>\n",
       "</div>"
      ],
      "text/plain": [
       "                  client_id  quantity   price category_ids       date  \\\n",
       "0       1515915625468169594         1  1999.0            4 2022-05-16   \n",
       "0       1515915625468169594         1  1999.0           28 2022-05-16   \n",
       "0       1515915625468169594         1  1999.0           57 2022-05-16   \n",
       "0       1515915625468169594         1  1999.0          431 2022-05-16   \n",
       "1       1515915625468169594         1  2499.0            4 2022-05-16   \n",
       "...                     ...       ...     ...          ...        ...   \n",
       "202206  1515915626010443527         1  1999.0          446 2024-02-16   \n",
       "202207  1515915626010443624         1   999.0            4 2024-02-16   \n",
       "202207  1515915626010443624         1   999.0           28 2024-02-16   \n",
       "202207  1515915626010443624         1   999.0           62 2024-02-16   \n",
       "202207  1515915626010443624         1   999.0          656 2024-02-16   \n",
       "\n",
       "                                     message_id   total  year  \n",
       "0        1515915625468169594-4301-627b661e9736d  1999.0  2022  \n",
       "0        1515915625468169594-4301-627b661e9736d  1999.0  2022  \n",
       "0        1515915625468169594-4301-627b661e9736d  1999.0  2022  \n",
       "0        1515915625468169594-4301-627b661e9736d  1999.0  2022  \n",
       "1        1515915625468169594-4301-627b661e9736d  2499.0  2022  \n",
       "...                                         ...     ...   ...  \n",
       "202206  1515915625766077627-14668-65cf5246bd490  1999.0  2024  \n",
       "202207  1515915625488468007-14668-65cf5234b1295   999.0  2024  \n",
       "202207  1515915625488468007-14668-65cf5234b1295   999.0  2024  \n",
       "202207  1515915625488468007-14668-65cf5234b1295   999.0  2024  \n",
       "202207  1515915625488468007-14668-65cf5234b1295   999.0  2024  \n",
       "\n",
       "[809350 rows x 8 columns]"
      ]
     },
     "execution_count": 288,
     "metadata": {},
     "output_type": "execute_result"
    }
   ],
   "source": [
    "df = df.explode('category_ids')\n",
    "df"
   ]
  },
  {
   "cell_type": "code",
   "execution_count": 289,
   "id": "6488f651-ab1d-4e56-bde8-a82ac54390c0",
   "metadata": {},
   "outputs": [
    {
     "name": "stderr",
     "output_type": "stream",
     "text": [
      "C:\\Users\\Daria\\AppData\\Local\\Programs\\Python\\Python312\\Lib\\site-packages\\phik\\data_quality.py:59: UserWarning: The number of unique values of variable category_ids is large: 1152. Are you sure this is not an interval variable? Analysis for pairs of variables including category_ids can be slow.\n",
      "  warnings.warn(\n"
     ]
    },
    {
     "data": {
      "image/png": "[encoded data removed]",
      "text/plain": [
       "<Figure size 1000x800 with 2 Axes>"
      ]
     },
     "metadata": {},
     "output_type": "display_data"
    }
   ],
   "source": [
    "interval_cols = ['quantity', 'price', 'total']\n",
    "\n",
    "phik_overview = df.drop(['client_id', 'message_id'], axis=1).phik_matrix(interval_cols=interval_cols)\n",
    "\n",
    "plot_correlation_matrix(\n",
    "    phik_overview.values,\n",
    "    x_labels=phik_overview.columns,\n",
    "    y_labels=phik_overview.index,\n",
    "    title=r\"Корреляция в ДС df $\\phi_K$\",\n",
    "    fontsize_factor=1.5,\n",
    "    figsize=(10, 8))"
   ]
  },
  {
   "cell_type": "markdown",
   "id": "04b5764c-512f-47b3-9441-12a44d89adf1",
   "metadata": {},
   "source": [
    "Отметим, что между столбцами price и total очевидна мультиколлинеарность (что, вероятно вызвано обилием покупок 1 единицы товара), соответственно солбец price необходимо удалить до обучения модели.\n",
    "\n",
    "Также отметтим сильную связь категории товара и даты. Это не мультиколлинеарная связь, но близка к этому. Возможно это связно с датами акций на определенные категории товаров."
   ]
  },
  {
   "cell_type": "markdown",
   "id": "7594a949-b71c-4f3a-80b0-c60428f15a8e",
   "metadata": {},
   "source": [
    "# Разработка модели, 1 версия"
   ]
  },
  {
   "cell_type": "markdown",
   "id": "24fa719d-d860-4066-ad15-f4176680858b",
   "metadata": {},
   "source": [
    "Так как в данной задаче требуется предсказать, готов или нет покупатель совершить покупку в ближайшее время, то мы имеем дело с бинарной классификацией (только 2 варианта ответа, да или нет).\n",
    "\n",
    "В данном случае будем использовать модель градиентного бустинга CatBoost (а именно CatBoostClassifier).\n",
    "\n",
    "В первой итерации обучим модель в формате \"как есть\", т.е. используем данные в том формате и объеме, что они есть сейчас."
   ]
  },
  {
   "cell_type": "code",
   "execution_count": 290,
   "id": "30843d0d-6f23-4386-ac35-5a23a4e122dc",
   "metadata": {},
   "outputs": [
    {
     "data": {
      "text/html": [
       "<div>\n",
       "<style scoped>\n",
       "    .dataframe tbody tr th:only-of-type {\n",
       "        vertical-align: middle;\n",
       "    }\n",
       "\n",
       "    .dataframe tbody tr th {\n",
       "        vertical-align: top;\n",
       "    }\n",
       "\n",
       "    .dataframe thead th {\n",
       "        text-align: right;\n",
       "    }\n",
       "</style>\n",
       "<table border=\"1\" class=\"dataframe\">\n",
       "  <thead>\n",
       "    <tr style=\"text-align: right;\">\n",
       "      <th></th>\n",
       "      <th>client_id</th>\n",
       "      <th>quantity</th>\n",
       "      <th>category_ids</th>\n",
       "      <th>date</th>\n",
       "      <th>message_id</th>\n",
       "      <th>total</th>\n",
       "      <th>target</th>\n",
       "    </tr>\n",
       "  </thead>\n",
       "  <tbody>\n",
       "    <tr>\n",
       "      <th>0</th>\n",
       "      <td>1515915625468169594</td>\n",
       "      <td>1</td>\n",
       "      <td>4</td>\n",
       "      <td>2022-05-16</td>\n",
       "      <td>1515915625468169594-4301-627b661e9736d</td>\n",
       "      <td>1999.0</td>\n",
       "      <td>0</td>\n",
       "    </tr>\n",
       "    <tr>\n",
       "      <th>1</th>\n",
       "      <td>1515915625468169594</td>\n",
       "      <td>1</td>\n",
       "      <td>28</td>\n",
       "      <td>2022-05-16</td>\n",
       "      <td>1515915625468169594-4301-627b661e9736d</td>\n",
       "      <td>1999.0</td>\n",
       "      <td>0</td>\n",
       "    </tr>\n",
       "    <tr>\n",
       "      <th>2</th>\n",
       "      <td>1515915625468169594</td>\n",
       "      <td>1</td>\n",
       "      <td>57</td>\n",
       "      <td>2022-05-16</td>\n",
       "      <td>1515915625468169594-4301-627b661e9736d</td>\n",
       "      <td>1999.0</td>\n",
       "      <td>0</td>\n",
       "    </tr>\n",
       "    <tr>\n",
       "      <th>3</th>\n",
       "      <td>1515915625468169594</td>\n",
       "      <td>1</td>\n",
       "      <td>431</td>\n",
       "      <td>2022-05-16</td>\n",
       "      <td>1515915625468169594-4301-627b661e9736d</td>\n",
       "      <td>1999.0</td>\n",
       "      <td>0</td>\n",
       "    </tr>\n",
       "    <tr>\n",
       "      <th>4</th>\n",
       "      <td>1515915625468169594</td>\n",
       "      <td>1</td>\n",
       "      <td>4</td>\n",
       "      <td>2022-05-16</td>\n",
       "      <td>1515915625468169594-4301-627b661e9736d</td>\n",
       "      <td>2499.0</td>\n",
       "      <td>0</td>\n",
       "    </tr>\n",
       "  </tbody>\n",
       "</table>\n",
       "</div>"
      ],
      "text/plain": [
       "             client_id  quantity category_ids       date  \\\n",
       "0  1515915625468169594         1            4 2022-05-16   \n",
       "1  1515915625468169594         1           28 2022-05-16   \n",
       "2  1515915625468169594         1           57 2022-05-16   \n",
       "3  1515915625468169594         1          431 2022-05-16   \n",
       "4  1515915625468169594         1            4 2022-05-16   \n",
       "\n",
       "                               message_id   total  target  \n",
       "0  1515915625468169594-4301-627b661e9736d  1999.0       0  \n",
       "1  1515915625468169594-4301-627b661e9736d  1999.0       0  \n",
       "2  1515915625468169594-4301-627b661e9736d  1999.0       0  \n",
       "3  1515915625468169594-4301-627b661e9736d  1999.0       0  \n",
       "4  1515915625468169594-4301-627b661e9736d  2499.0       0  "
      ]
     },
     "execution_count": 290,
     "metadata": {},
     "output_type": "execute_result"
    }
   ],
   "source": [
    "#Убираем лишние признаки\n",
    "df = df.drop(['year', 'price'], axis=1)\n",
    "\n",
    "#Добавляем цедевые признаки из дс target в дс df, дабы размеры выборок совпадали\n",
    "df = df.merge(target, on = 'client_id', how='left')\n",
    "df.head()"
   ]
  },
  {
   "cell_type": "code",
   "execution_count": 332,
   "id": "808e6335-1de2-4cfc-8e54-39063f6d49f1",
   "metadata": {},
   "outputs": [
    {
     "ename": "TypeError",
     "evalue": "float() argument must be a string or a real number, not 'Timestamp'",
     "output_type": "error",
     "traceback": [
      "\u001b[1;31m---------------------------------------------------------------------------\u001b[0m",
      "\u001b[1;31mTypeError\u001b[0m                                 Traceback (most recent call last)",
      "\u001b[1;32m~\\AppData\\Local\\Temp\\ipykernel_11952\\2280314001.py\u001b[0m in \u001b[0;36m?\u001b[1;34m()\u001b[0m\n\u001b[0;32m      9\u001b[0m     \u001b[0my\u001b[0m\u001b[1;33m,\u001b[0m\u001b[1;33m\u001b[0m\u001b[1;33m\u001b[0m\u001b[0m\n\u001b[0;32m     10\u001b[0m     \u001b[0mtest_size\u001b[0m\u001b[1;33m=\u001b[0m\u001b[1;36m0.25\u001b[0m\u001b[1;33m,\u001b[0m \u001b[0mrandom_state\u001b[0m \u001b[1;33m=\u001b[0m \u001b[0mRANDOM_STATE\u001b[0m\u001b[1;33m)\u001b[0m\u001b[1;33m\u001b[0m\u001b[1;33m\u001b[0m\u001b[0m\n\u001b[0;32m     11\u001b[0m \u001b[1;33m\u001b[0m\u001b[0m\n\u001b[0;32m     12\u001b[0m \u001b[0mscaler\u001b[0m \u001b[1;33m=\u001b[0m \u001b[0mMinMaxScaler\u001b[0m\u001b[1;33m(\u001b[0m\u001b[1;33m)\u001b[0m\u001b[1;33m\u001b[0m\u001b[1;33m\u001b[0m\u001b[0m\n\u001b[1;32m---> 13\u001b[1;33m \u001b[0mX_train\u001b[0m \u001b[1;33m=\u001b[0m \u001b[0mscaler\u001b[0m\u001b[1;33m.\u001b[0m\u001b[0mfit_transform\u001b[0m\u001b[1;33m(\u001b[0m\u001b[0mX_train\u001b[0m\u001b[1;33m)\u001b[0m\u001b[1;33m\u001b[0m\u001b[1;33m\u001b[0m\u001b[0m\n\u001b[0m\u001b[0;32m     14\u001b[0m \u001b[0mX_test\u001b[0m \u001b[1;33m=\u001b[0m \u001b[0mscaler\u001b[0m\u001b[1;33m.\u001b[0m\u001b[0mtransform\u001b[0m\u001b[1;33m(\u001b[0m\u001b[0mX_test\u001b[0m\u001b[1;33m)\u001b[0m\u001b[1;33m\u001b[0m\u001b[1;33m\u001b[0m\u001b[0m\n",
      "\u001b[1;32m~\\AppData\\Local\\Programs\\Python\\Python312\\Lib\\site-packages\\sklearn\\utils\\_set_output.py\u001b[0m in \u001b[0;36m?\u001b[1;34m(self, X, *args, **kwargs)\u001b[0m\n\u001b[0;32m    311\u001b[0m     \u001b[1;33m@\u001b[0m\u001b[0mwraps\u001b[0m\u001b[1;33m(\u001b[0m\u001b[0mf\u001b[0m\u001b[1;33m)\u001b[0m\u001b[1;33m\u001b[0m\u001b[1;33m\u001b[0m\u001b[0m\n\u001b[0;32m    312\u001b[0m     \u001b[1;32mdef\u001b[0m \u001b[0mwrapped\u001b[0m\u001b[1;33m(\u001b[0m\u001b[0mself\u001b[0m\u001b[1;33m,\u001b[0m \u001b[0mX\u001b[0m\u001b[1;33m,\u001b[0m \u001b[1;33m*\u001b[0m\u001b[0margs\u001b[0m\u001b[1;33m,\u001b[0m \u001b[1;33m**\u001b[0m\u001b[0mkwargs\u001b[0m\u001b[1;33m)\u001b[0m\u001b[1;33m:\u001b[0m\u001b[1;33m\u001b[0m\u001b[1;33m\u001b[0m\u001b[0m\n\u001b[1;32m--> 313\u001b[1;33m         \u001b[0mdata_to_wrap\u001b[0m \u001b[1;33m=\u001b[0m \u001b[0mf\u001b[0m\u001b[1;33m(\u001b[0m\u001b[0mself\u001b[0m\u001b[1;33m,\u001b[0m \u001b[0mX\u001b[0m\u001b[1;33m,\u001b[0m \u001b[1;33m*\u001b[0m\u001b[0margs\u001b[0m\u001b[1;33m,\u001b[0m \u001b[1;33m**\u001b[0m\u001b[0mkwargs\u001b[0m\u001b[1;33m)\u001b[0m\u001b[1;33m\u001b[0m\u001b[1;33m\u001b[0m\u001b[0m\n\u001b[0m\u001b[0;32m    314\u001b[0m         \u001b[1;32mif\u001b[0m \u001b[0misinstance\u001b[0m\u001b[1;33m(\u001b[0m\u001b[0mdata_to_wrap\u001b[0m\u001b[1;33m,\u001b[0m \u001b[0mtuple\u001b[0m\u001b[1;33m)\u001b[0m\u001b[1;33m:\u001b[0m\u001b[1;33m\u001b[0m\u001b[1;33m\u001b[0m\u001b[0m\n\u001b[0;32m    315\u001b[0m             \u001b[1;31m# only wrap the first output for cross decomposition\u001b[0m\u001b[1;33m\u001b[0m\u001b[1;33m\u001b[0m\u001b[0m\n\u001b[0;32m    316\u001b[0m             return_tuple = (\n",
      "\u001b[1;32m~\\AppData\\Local\\Programs\\Python\\Python312\\Lib\\site-packages\\sklearn\\base.py\u001b[0m in \u001b[0;36m?\u001b[1;34m(self, X, y, **fit_params)\u001b[0m\n\u001b[0;32m   1094\u001b[0m                 \u001b[1;33m)\u001b[0m\u001b[1;33m\u001b[0m\u001b[1;33m\u001b[0m\u001b[0m\n\u001b[0;32m   1095\u001b[0m \u001b[1;33m\u001b[0m\u001b[0m\n\u001b[0;32m   1096\u001b[0m         \u001b[1;32mif\u001b[0m \u001b[0my\u001b[0m \u001b[1;32mis\u001b[0m \u001b[1;32mNone\u001b[0m\u001b[1;33m:\u001b[0m\u001b[1;33m\u001b[0m\u001b[1;33m\u001b[0m\u001b[0m\n\u001b[0;32m   1097\u001b[0m             \u001b[1;31m# fit method of arity 1 (unsupervised transformation)\u001b[0m\u001b[1;33m\u001b[0m\u001b[1;33m\u001b[0m\u001b[0m\n\u001b[1;32m-> 1098\u001b[1;33m             \u001b[1;32mreturn\u001b[0m \u001b[0mself\u001b[0m\u001b[1;33m.\u001b[0m\u001b[0mfit\u001b[0m\u001b[1;33m(\u001b[0m\u001b[0mX\u001b[0m\u001b[1;33m,\u001b[0m \u001b[1;33m**\u001b[0m\u001b[0mfit_params\u001b[0m\u001b[1;33m)\u001b[0m\u001b[1;33m.\u001b[0m\u001b[0mtransform\u001b[0m\u001b[1;33m(\u001b[0m\u001b[0mX\u001b[0m\u001b[1;33m)\u001b[0m\u001b[1;33m\u001b[0m\u001b[1;33m\u001b[0m\u001b[0m\n\u001b[0m\u001b[0;32m   1099\u001b[0m         \u001b[1;32melse\u001b[0m\u001b[1;33m:\u001b[0m\u001b[1;33m\u001b[0m\u001b[1;33m\u001b[0m\u001b[0m\n\u001b[0;32m   1100\u001b[0m             \u001b[1;31m# fit method of arity 2 (supervised transformation)\u001b[0m\u001b[1;33m\u001b[0m\u001b[1;33m\u001b[0m\u001b[0m\n\u001b[0;32m   1101\u001b[0m             \u001b[1;32mreturn\u001b[0m \u001b[0mself\u001b[0m\u001b[1;33m.\u001b[0m\u001b[0mfit\u001b[0m\u001b[1;33m(\u001b[0m\u001b[0mX\u001b[0m\u001b[1;33m,\u001b[0m \u001b[0my\u001b[0m\u001b[1;33m,\u001b[0m \u001b[1;33m**\u001b[0m\u001b[0mfit_params\u001b[0m\u001b[1;33m)\u001b[0m\u001b[1;33m.\u001b[0m\u001b[0mtransform\u001b[0m\u001b[1;33m(\u001b[0m\u001b[0mX\u001b[0m\u001b[1;33m)\u001b[0m\u001b[1;33m\u001b[0m\u001b[1;33m\u001b[0m\u001b[0m\n",
      "\u001b[1;32m~\\AppData\\Local\\Programs\\Python\\Python312\\Lib\\site-packages\\sklearn\\preprocessing\\_data.py\u001b[0m in \u001b[0;36m?\u001b[1;34m(self, X, y)\u001b[0m\n\u001b[0;32m    446\u001b[0m             \u001b[0mFitted\u001b[0m \u001b[0mscaler\u001b[0m\u001b[1;33m.\u001b[0m\u001b[1;33m\u001b[0m\u001b[1;33m\u001b[0m\u001b[0m\n\u001b[0;32m    447\u001b[0m         \"\"\"\n\u001b[0;32m    448\u001b[0m         \u001b[1;31m# Reset internal state before fitting\u001b[0m\u001b[1;33m\u001b[0m\u001b[1;33m\u001b[0m\u001b[0m\n\u001b[0;32m    449\u001b[0m         \u001b[0mself\u001b[0m\u001b[1;33m.\u001b[0m\u001b[0m_reset\u001b[0m\u001b[1;33m(\u001b[0m\u001b[1;33m)\u001b[0m\u001b[1;33m\u001b[0m\u001b[1;33m\u001b[0m\u001b[0m\n\u001b[1;32m--> 450\u001b[1;33m         \u001b[1;32mreturn\u001b[0m \u001b[0mself\u001b[0m\u001b[1;33m.\u001b[0m\u001b[0mpartial_fit\u001b[0m\u001b[1;33m(\u001b[0m\u001b[0mX\u001b[0m\u001b[1;33m,\u001b[0m \u001b[0my\u001b[0m\u001b[1;33m)\u001b[0m\u001b[1;33m\u001b[0m\u001b[1;33m\u001b[0m\u001b[0m\n\u001b[0m",
      "\u001b[1;32m~\\AppData\\Local\\Programs\\Python\\Python312\\Lib\\site-packages\\sklearn\\base.py\u001b[0m in \u001b[0;36m?\u001b[1;34m(estimator, *args, **kwargs)\u001b[0m\n\u001b[0;32m   1469\u001b[0m                 skip_parameter_validation=(\n\u001b[0;32m   1470\u001b[0m                     \u001b[0mprefer_skip_nested_validation\u001b[0m \u001b[1;32mor\u001b[0m \u001b[0mglobal_skip_validation\u001b[0m\u001b[1;33m\u001b[0m\u001b[1;33m\u001b[0m\u001b[0m\n\u001b[0;32m   1471\u001b[0m                 \u001b[1;33m)\u001b[0m\u001b[1;33m\u001b[0m\u001b[1;33m\u001b[0m\u001b[0m\n\u001b[0;32m   1472\u001b[0m             \u001b[1;33m)\u001b[0m\u001b[1;33m:\u001b[0m\u001b[1;33m\u001b[0m\u001b[1;33m\u001b[0m\u001b[0m\n\u001b[1;32m-> 1473\u001b[1;33m                 \u001b[1;32mreturn\u001b[0m \u001b[0mfit_method\u001b[0m\u001b[1;33m(\u001b[0m\u001b[0mestimator\u001b[0m\u001b[1;33m,\u001b[0m \u001b[1;33m*\u001b[0m\u001b[0margs\u001b[0m\u001b[1;33m,\u001b[0m \u001b[1;33m**\u001b[0m\u001b[0mkwargs\u001b[0m\u001b[1;33m)\u001b[0m\u001b[1;33m\u001b[0m\u001b[1;33m\u001b[0m\u001b[0m\n\u001b[0m",
      "\u001b[1;32m~\\AppData\\Local\\Programs\\Python\\Python312\\Lib\\site-packages\\sklearn\\preprocessing\\_data.py\u001b[0m in \u001b[0;36m?\u001b[1;34m(self, X, y)\u001b[0m\n\u001b[0;32m    486\u001b[0m \u001b[1;33m\u001b[0m\u001b[0m\n\u001b[0;32m    487\u001b[0m         \u001b[0mxp\u001b[0m\u001b[1;33m,\u001b[0m \u001b[0m_\u001b[0m \u001b[1;33m=\u001b[0m \u001b[0mget_namespace\u001b[0m\u001b[1;33m(\u001b[0m\u001b[0mX\u001b[0m\u001b[1;33m)\u001b[0m\u001b[1;33m\u001b[0m\u001b[1;33m\u001b[0m\u001b[0m\n\u001b[0;32m    488\u001b[0m \u001b[1;33m\u001b[0m\u001b[0m\n\u001b[0;32m    489\u001b[0m         \u001b[0mfirst_pass\u001b[0m \u001b[1;33m=\u001b[0m \u001b[1;32mnot\u001b[0m \u001b[0mhasattr\u001b[0m\u001b[1;33m(\u001b[0m\u001b[0mself\u001b[0m\u001b[1;33m,\u001b[0m \u001b[1;34m\"n_samples_seen_\"\u001b[0m\u001b[1;33m)\u001b[0m\u001b[1;33m\u001b[0m\u001b[1;33m\u001b[0m\u001b[0m\n\u001b[1;32m--> 490\u001b[1;33m         X = self._validate_data(\n\u001b[0m\u001b[0;32m    491\u001b[0m             \u001b[0mX\u001b[0m\u001b[1;33m,\u001b[0m\u001b[1;33m\u001b[0m\u001b[1;33m\u001b[0m\u001b[0m\n\u001b[0;32m    492\u001b[0m             \u001b[0mreset\u001b[0m\u001b[1;33m=\u001b[0m\u001b[0mfirst_pass\u001b[0m\u001b[1;33m,\u001b[0m\u001b[1;33m\u001b[0m\u001b[1;33m\u001b[0m\u001b[0m\n\u001b[0;32m    493\u001b[0m             \u001b[0mdtype\u001b[0m\u001b[1;33m=\u001b[0m\u001b[0m_array_api\u001b[0m\u001b[1;33m.\u001b[0m\u001b[0msupported_float_dtypes\u001b[0m\u001b[1;33m(\u001b[0m\u001b[0mxp\u001b[0m\u001b[1;33m)\u001b[0m\u001b[1;33m,\u001b[0m\u001b[1;33m\u001b[0m\u001b[1;33m\u001b[0m\u001b[0m\n",
      "\u001b[1;32m~\\AppData\\Local\\Programs\\Python\\Python312\\Lib\\site-packages\\sklearn\\base.py\u001b[0m in \u001b[0;36m?\u001b[1;34m(self, X, y, reset, validate_separately, cast_to_ndarray, **check_params)\u001b[0m\n\u001b[0;32m    629\u001b[0m                 \u001b[0mout\u001b[0m \u001b[1;33m=\u001b[0m \u001b[0my\u001b[0m\u001b[1;33m\u001b[0m\u001b[1;33m\u001b[0m\u001b[0m\n\u001b[0;32m    630\u001b[0m             \u001b[1;32melse\u001b[0m\u001b[1;33m:\u001b[0m\u001b[1;33m\u001b[0m\u001b[1;33m\u001b[0m\u001b[0m\n\u001b[0;32m    631\u001b[0m                 \u001b[0mout\u001b[0m \u001b[1;33m=\u001b[0m \u001b[0mX\u001b[0m\u001b[1;33m,\u001b[0m \u001b[0my\u001b[0m\u001b[1;33m\u001b[0m\u001b[1;33m\u001b[0m\u001b[0m\n\u001b[0;32m    632\u001b[0m         \u001b[1;32melif\u001b[0m \u001b[1;32mnot\u001b[0m \u001b[0mno_val_X\u001b[0m \u001b[1;32mand\u001b[0m \u001b[0mno_val_y\u001b[0m\u001b[1;33m:\u001b[0m\u001b[1;33m\u001b[0m\u001b[1;33m\u001b[0m\u001b[0m\n\u001b[1;32m--> 633\u001b[1;33m             \u001b[0mout\u001b[0m \u001b[1;33m=\u001b[0m \u001b[0mcheck_array\u001b[0m\u001b[1;33m(\u001b[0m\u001b[0mX\u001b[0m\u001b[1;33m,\u001b[0m \u001b[0minput_name\u001b[0m\u001b[1;33m=\u001b[0m\u001b[1;34m\"X\"\u001b[0m\u001b[1;33m,\u001b[0m \u001b[1;33m**\u001b[0m\u001b[0mcheck_params\u001b[0m\u001b[1;33m)\u001b[0m\u001b[1;33m\u001b[0m\u001b[1;33m\u001b[0m\u001b[0m\n\u001b[0m\u001b[0;32m    634\u001b[0m         \u001b[1;32melif\u001b[0m \u001b[0mno_val_X\u001b[0m \u001b[1;32mand\u001b[0m \u001b[1;32mnot\u001b[0m \u001b[0mno_val_y\u001b[0m\u001b[1;33m:\u001b[0m\u001b[1;33m\u001b[0m\u001b[1;33m\u001b[0m\u001b[0m\n\u001b[0;32m    635\u001b[0m             \u001b[0mout\u001b[0m \u001b[1;33m=\u001b[0m \u001b[0m_check_y\u001b[0m\u001b[1;33m(\u001b[0m\u001b[0my\u001b[0m\u001b[1;33m,\u001b[0m \u001b[1;33m**\u001b[0m\u001b[0mcheck_params\u001b[0m\u001b[1;33m)\u001b[0m\u001b[1;33m\u001b[0m\u001b[1;33m\u001b[0m\u001b[0m\n\u001b[0;32m    636\u001b[0m         \u001b[1;32melse\u001b[0m\u001b[1;33m:\u001b[0m\u001b[1;33m\u001b[0m\u001b[1;33m\u001b[0m\u001b[0m\n",
      "\u001b[1;32m~\\AppData\\Local\\Programs\\Python\\Python312\\Lib\\site-packages\\sklearn\\utils\\validation.py\u001b[0m in \u001b[0;36m?\u001b[1;34m(array, accept_sparse, accept_large_sparse, dtype, order, copy, force_writeable, force_all_finite, ensure_2d, allow_nd, ensure_min_samples, ensure_min_features, estimator, input_name)\u001b[0m\n\u001b[0;32m   1009\u001b[0m                         \u001b[1;33m)\u001b[0m\u001b[1;33m\u001b[0m\u001b[1;33m\u001b[0m\u001b[0m\n\u001b[0;32m   1010\u001b[0m                     \u001b[0marray\u001b[0m \u001b[1;33m=\u001b[0m \u001b[0mxp\u001b[0m\u001b[1;33m.\u001b[0m\u001b[0mastype\u001b[0m\u001b[1;33m(\u001b[0m\u001b[0marray\u001b[0m\u001b[1;33m,\u001b[0m \u001b[0mdtype\u001b[0m\u001b[1;33m,\u001b[0m \u001b[0mcopy\u001b[0m\u001b[1;33m=\u001b[0m\u001b[1;32mFalse\u001b[0m\u001b[1;33m)\u001b[0m\u001b[1;33m\u001b[0m\u001b[1;33m\u001b[0m\u001b[0m\n\u001b[0;32m   1011\u001b[0m                 \u001b[1;32melse\u001b[0m\u001b[1;33m:\u001b[0m\u001b[1;33m\u001b[0m\u001b[1;33m\u001b[0m\u001b[0m\n\u001b[0;32m   1012\u001b[0m                     \u001b[0marray\u001b[0m \u001b[1;33m=\u001b[0m \u001b[0m_asarray_with_order\u001b[0m\u001b[1;33m(\u001b[0m\u001b[0marray\u001b[0m\u001b[1;33m,\u001b[0m \u001b[0morder\u001b[0m\u001b[1;33m=\u001b[0m\u001b[0morder\u001b[0m\u001b[1;33m,\u001b[0m \u001b[0mdtype\u001b[0m\u001b[1;33m=\u001b[0m\u001b[0mdtype\u001b[0m\u001b[1;33m,\u001b[0m \u001b[0mxp\u001b[0m\u001b[1;33m=\u001b[0m\u001b[0mxp\u001b[0m\u001b[1;33m)\u001b[0m\u001b[1;33m\u001b[0m\u001b[1;33m\u001b[0m\u001b[0m\n\u001b[1;32m-> 1013\u001b[1;33m             \u001b[1;32mexcept\u001b[0m \u001b[0mComplexWarning\u001b[0m \u001b[1;32mas\u001b[0m \u001b[0mcomplex_warning\u001b[0m\u001b[1;33m:\u001b[0m\u001b[1;33m\u001b[0m\u001b[1;33m\u001b[0m\u001b[0m\n\u001b[0m\u001b[0;32m   1014\u001b[0m                 raise ValueError(\n\u001b[0;32m   1015\u001b[0m                     \u001b[1;34m\"Complex data not supported\\n{}\\n\"\u001b[0m\u001b[1;33m.\u001b[0m\u001b[0mformat\u001b[0m\u001b[1;33m(\u001b[0m\u001b[0marray\u001b[0m\u001b[1;33m)\u001b[0m\u001b[1;33m\u001b[0m\u001b[1;33m\u001b[0m\u001b[0m\n\u001b[0;32m   1016\u001b[0m                 \u001b[1;33m)\u001b[0m \u001b[1;32mfrom\u001b[0m \u001b[0mcomplex_warning\u001b[0m\u001b[1;33m\u001b[0m\u001b[1;33m\u001b[0m\u001b[0m\n",
      "\u001b[1;32m~\\AppData\\Local\\Programs\\Python\\Python312\\Lib\\site-packages\\sklearn\\utils\\_array_api.py\u001b[0m in \u001b[0;36m?\u001b[1;34m(array, dtype, order, copy, xp, device)\u001b[0m\n\u001b[0;32m    747\u001b[0m         \u001b[1;31m# Use NumPy API to support order\u001b[0m\u001b[1;33m\u001b[0m\u001b[1;33m\u001b[0m\u001b[0m\n\u001b[0;32m    748\u001b[0m         \u001b[1;32mif\u001b[0m \u001b[0mcopy\u001b[0m \u001b[1;32mis\u001b[0m \u001b[1;32mTrue\u001b[0m\u001b[1;33m:\u001b[0m\u001b[1;33m\u001b[0m\u001b[1;33m\u001b[0m\u001b[0m\n\u001b[0;32m    749\u001b[0m             \u001b[0marray\u001b[0m \u001b[1;33m=\u001b[0m \u001b[0mnumpy\u001b[0m\u001b[1;33m.\u001b[0m\u001b[0marray\u001b[0m\u001b[1;33m(\u001b[0m\u001b[0marray\u001b[0m\u001b[1;33m,\u001b[0m \u001b[0morder\u001b[0m\u001b[1;33m=\u001b[0m\u001b[0morder\u001b[0m\u001b[1;33m,\u001b[0m \u001b[0mdtype\u001b[0m\u001b[1;33m=\u001b[0m\u001b[0mdtype\u001b[0m\u001b[1;33m)\u001b[0m\u001b[1;33m\u001b[0m\u001b[1;33m\u001b[0m\u001b[0m\n\u001b[0;32m    750\u001b[0m         \u001b[1;32melse\u001b[0m\u001b[1;33m:\u001b[0m\u001b[1;33m\u001b[0m\u001b[1;33m\u001b[0m\u001b[0m\n\u001b[1;32m--> 751\u001b[1;33m             \u001b[0marray\u001b[0m \u001b[1;33m=\u001b[0m \u001b[0mnumpy\u001b[0m\u001b[1;33m.\u001b[0m\u001b[0masarray\u001b[0m\u001b[1;33m(\u001b[0m\u001b[0marray\u001b[0m\u001b[1;33m,\u001b[0m \u001b[0morder\u001b[0m\u001b[1;33m=\u001b[0m\u001b[0morder\u001b[0m\u001b[1;33m,\u001b[0m \u001b[0mdtype\u001b[0m\u001b[1;33m=\u001b[0m\u001b[0mdtype\u001b[0m\u001b[1;33m)\u001b[0m\u001b[1;33m\u001b[0m\u001b[1;33m\u001b[0m\u001b[0m\n\u001b[0m\u001b[0;32m    752\u001b[0m \u001b[1;33m\u001b[0m\u001b[0m\n\u001b[0;32m    753\u001b[0m         \u001b[1;31m# At this point array is a NumPy ndarray. We convert it to an array\u001b[0m\u001b[1;33m\u001b[0m\u001b[1;33m\u001b[0m\u001b[0m\n\u001b[0;32m    754\u001b[0m         \u001b[1;31m# container that is consistent with the input's namespace.\u001b[0m\u001b[1;33m\u001b[0m\u001b[1;33m\u001b[0m\u001b[0m\n",
      "\u001b[1;32m~\\AppData\\Local\\Programs\\Python\\Python312\\Lib\\site-packages\\pandas\\core\\generic.py\u001b[0m in \u001b[0;36m?\u001b[1;34m(self, dtype, copy)\u001b[0m\n\u001b[0;32m   2149\u001b[0m     def __array__(\n\u001b[0;32m   2150\u001b[0m         \u001b[0mself\u001b[0m\u001b[1;33m,\u001b[0m \u001b[0mdtype\u001b[0m\u001b[1;33m:\u001b[0m \u001b[0mnpt\u001b[0m\u001b[1;33m.\u001b[0m\u001b[0mDTypeLike\u001b[0m \u001b[1;33m|\u001b[0m \u001b[1;32mNone\u001b[0m \u001b[1;33m=\u001b[0m \u001b[1;32mNone\u001b[0m\u001b[1;33m,\u001b[0m \u001b[0mcopy\u001b[0m\u001b[1;33m:\u001b[0m \u001b[0mbool_t\u001b[0m \u001b[1;33m|\u001b[0m \u001b[1;32mNone\u001b[0m \u001b[1;33m=\u001b[0m \u001b[1;32mNone\u001b[0m\u001b[1;33m\u001b[0m\u001b[1;33m\u001b[0m\u001b[0m\n\u001b[0;32m   2151\u001b[0m     \u001b[1;33m)\u001b[0m \u001b[1;33m->\u001b[0m \u001b[0mnp\u001b[0m\u001b[1;33m.\u001b[0m\u001b[0mndarray\u001b[0m\u001b[1;33m:\u001b[0m\u001b[1;33m\u001b[0m\u001b[1;33m\u001b[0m\u001b[0m\n\u001b[0;32m   2152\u001b[0m         \u001b[0mvalues\u001b[0m \u001b[1;33m=\u001b[0m \u001b[0mself\u001b[0m\u001b[1;33m.\u001b[0m\u001b[0m_values\u001b[0m\u001b[1;33m\u001b[0m\u001b[1;33m\u001b[0m\u001b[0m\n\u001b[1;32m-> 2153\u001b[1;33m         \u001b[0marr\u001b[0m \u001b[1;33m=\u001b[0m \u001b[0mnp\u001b[0m\u001b[1;33m.\u001b[0m\u001b[0masarray\u001b[0m\u001b[1;33m(\u001b[0m\u001b[0mvalues\u001b[0m\u001b[1;33m,\u001b[0m \u001b[0mdtype\u001b[0m\u001b[1;33m=\u001b[0m\u001b[0mdtype\u001b[0m\u001b[1;33m)\u001b[0m\u001b[1;33m\u001b[0m\u001b[1;33m\u001b[0m\u001b[0m\n\u001b[0m\u001b[0;32m   2154\u001b[0m         if (\n\u001b[0;32m   2155\u001b[0m             \u001b[0mastype_is_view\u001b[0m\u001b[1;33m(\u001b[0m\u001b[0mvalues\u001b[0m\u001b[1;33m.\u001b[0m\u001b[0mdtype\u001b[0m\u001b[1;33m,\u001b[0m \u001b[0marr\u001b[0m\u001b[1;33m.\u001b[0m\u001b[0mdtype\u001b[0m\u001b[1;33m)\u001b[0m\u001b[1;33m\u001b[0m\u001b[1;33m\u001b[0m\u001b[0m\n\u001b[0;32m   2156\u001b[0m             \u001b[1;32mand\u001b[0m \u001b[0musing_copy_on_write\u001b[0m\u001b[1;33m(\u001b[0m\u001b[1;33m)\u001b[0m\u001b[1;33m\u001b[0m\u001b[1;33m\u001b[0m\u001b[0m\n",
      "\u001b[1;31mTypeError\u001b[0m: float() argument must be a string or a real number, not 'Timestamp'"
     ]
    }
   ],
   "source": [
    "#Делим данные на выборки\n",
    "RANDOM_STATE = 42\n",
    "\n",
    "X = df.drop(['client_id', 'message_id', 'target'], axis=1)\n",
    "y = df['target']\n",
    "\n",
    "X_train, X_test, y_train, y_test = train_test_split(\n",
    "    X,\n",
    "    y,\n",
    "    test_size=0.25, random_state = RANDOM_STATE)"
   ]
  },
  {
   "cell_type": "code",
   "execution_count": 292,
   "id": "ec67f92e-bc9c-4912-a8f6-ad2a5517a5ba",
   "metadata": {},
   "outputs": [
    {
     "name": "stdout",
     "output_type": "stream",
     "text": [
      "Learning rate set to 0.5\n",
      "0:\tlearn: 0.3629256\ttotal: 83.3ms\tremaining: 4.08s\n",
      "10:\tlearn: 0.1416388\ttotal: 784ms\tremaining: 2.78s\n",
      "20:\tlearn: 0.1394697\ttotal: 1.4s\tremaining: 1.93s\n",
      "30:\tlearn: 0.1376820\ttotal: 2.02s\tremaining: 1.24s\n",
      "40:\tlearn: 0.1366429\ttotal: 2.63s\tremaining: 577ms\n",
      "49:\tlearn: 0.1354531\ttotal: 3.19s\tremaining: 0us\n"
     ]
    },
    {
     "data": {
      "text/plain": [
       "<catboost.core.CatBoostClassifier at 0x2548c09ed20>"
      ]
     },
     "execution_count": 292,
     "metadata": {},
     "output_type": "execute_result"
    }
   ],
   "source": [
    "cat_features = ['category_ids']\n",
    "\n",
    "model = CatBoostClassifier(loss_function='Logloss', iterations=50)\n",
    "\n",
    "model.fit(X_train, y_train, cat_features=cat_features, verbose=10)"
   ]
  },
  {
   "cell_type": "code",
   "execution_count": 315,
   "id": "e9680339-34ec-4da3-b3bd-63130743a552",
   "metadata": {},
   "outputs": [
    {
     "name": "stdout",
     "output_type": "stream",
     "text": [
      "0.6928218049261399\n"
     ]
    }
   ],
   "source": [
    "prob = model.predict_proba(X_test)\n",
    "prob_one = prob[:, 1]\n",
    "\n",
    "print(roc_auc_score(y_test, prob_one))"
   ]
  },
  {
   "cell_type": "markdown",
   "id": "81300114-c43b-4426-ac8e-b3102398f9ce",
   "metadata": {},
   "source": [
    "На текущий момент модель выдает точность в 0,69. Это относительно хороший показатель работы модели (она не ошибается в почти 70% случаев).\n",
    "\n",
    "Однако попробуем улучшить результаты работы модели."
   ]
  },
  {
   "cell_type": "markdown",
   "id": "440c8165-5a38-4606-aa1d-d6d7b5a8b2c0",
   "metadata": {},
   "source": [
    "# Корректировка данных"
   ]
  },
  {
   "cell_type": "markdown",
   "id": "be2b2a2f-ecd9-4b06-b4bf-324011be2006",
   "metadata": {},
   "source": [
    "## Добавление новых данных"
   ]
  },
  {
   "cell_type": "markdown",
   "id": "8844abef-ed43-46c4-94e0-5a1407ed1737",
   "metadata": {},
   "source": [
    "Учтем, что есть также данные о рассылках, которые получили клиенты."
   ]
  },
  {
   "cell_type": "code",
   "execution_count": 294,
   "id": "1df44d33-a82d-4ce5-aa0e-4c872322a84a",
   "metadata": {},
   "outputs": [
    {
     "data": {
      "text/html": [
       "<div>\n",
       "<style scoped>\n",
       "    .dataframe tbody tr th:only-of-type {\n",
       "        vertical-align: middle;\n",
       "    }\n",
       "\n",
       "    .dataframe tbody tr th {\n",
       "        vertical-align: top;\n",
       "    }\n",
       "\n",
       "    .dataframe thead th {\n",
       "        text-align: right;\n",
       "    }\n",
       "</style>\n",
       "<table border=\"1\" class=\"dataframe\">\n",
       "  <thead>\n",
       "    <tr style=\"text-align: right;\">\n",
       "      <th></th>\n",
       "      <th>bulk_campaign_id</th>\n",
       "      <th>client_id</th>\n",
       "      <th>message_id</th>\n",
       "      <th>event</th>\n",
       "      <th>channel</th>\n",
       "      <th>date</th>\n",
       "      <th>created_at</th>\n",
       "    </tr>\n",
       "  </thead>\n",
       "  <tbody>\n",
       "    <tr>\n",
       "      <th>0</th>\n",
       "      <td>4439</td>\n",
       "      <td>1515915625626736623</td>\n",
       "      <td>1515915625626736623-4439-6283415ac07ea</td>\n",
       "      <td>open</td>\n",
       "      <td>email</td>\n",
       "      <td>2022-05-19</td>\n",
       "      <td>2022-05-19 00:14:20</td>\n",
       "    </tr>\n",
       "    <tr>\n",
       "      <th>1</th>\n",
       "      <td>4439</td>\n",
       "      <td>1515915625490086521</td>\n",
       "      <td>1515915625490086521-4439-62834150016dd</td>\n",
       "      <td>open</td>\n",
       "      <td>email</td>\n",
       "      <td>2022-05-19</td>\n",
       "      <td>2022-05-19 00:39:34</td>\n",
       "    </tr>\n",
       "    <tr>\n",
       "      <th>2</th>\n",
       "      <td>4439</td>\n",
       "      <td>1515915625553578558</td>\n",
       "      <td>1515915625553578558-4439-6283415b36b4f</td>\n",
       "      <td>open</td>\n",
       "      <td>email</td>\n",
       "      <td>2022-05-19</td>\n",
       "      <td>2022-05-19 00:51:49</td>\n",
       "    </tr>\n",
       "    <tr>\n",
       "      <th>3</th>\n",
       "      <td>4439</td>\n",
       "      <td>1515915625553578558</td>\n",
       "      <td>1515915625553578558-4439-6283415b36b4f</td>\n",
       "      <td>click</td>\n",
       "      <td>email</td>\n",
       "      <td>2022-05-19</td>\n",
       "      <td>2022-05-19 00:52:20</td>\n",
       "    </tr>\n",
       "    <tr>\n",
       "      <th>4</th>\n",
       "      <td>4439</td>\n",
       "      <td>1515915625471518311</td>\n",
       "      <td>1515915625471518311-4439-628341570c133</td>\n",
       "      <td>open</td>\n",
       "      <td>email</td>\n",
       "      <td>2022-05-19</td>\n",
       "      <td>2022-05-19 00:56:52</td>\n",
       "    </tr>\n",
       "    <tr>\n",
       "      <th>5</th>\n",
       "      <td>4439</td>\n",
       "      <td>1515915625594606468</td>\n",
       "      <td>1515915625594606468-4439-6283411f277fc</td>\n",
       "      <td>open</td>\n",
       "      <td>email</td>\n",
       "      <td>2022-05-19</td>\n",
       "      <td>2022-05-19 01:04:11</td>\n",
       "    </tr>\n",
       "    <tr>\n",
       "      <th>6</th>\n",
       "      <td>4439</td>\n",
       "      <td>1515915625491810918</td>\n",
       "      <td>1515915625491810918-4439-6283411d9d299</td>\n",
       "      <td>open</td>\n",
       "      <td>email</td>\n",
       "      <td>2022-05-19</td>\n",
       "      <td>2022-05-19 01:19:54</td>\n",
       "    </tr>\n",
       "    <tr>\n",
       "      <th>7</th>\n",
       "      <td>4439</td>\n",
       "      <td>1515915625474219766</td>\n",
       "      <td>1515915625474219766-4439-628341212233a</td>\n",
       "      <td>open</td>\n",
       "      <td>email</td>\n",
       "      <td>2022-05-19</td>\n",
       "      <td>2022-05-19 01:23:43</td>\n",
       "    </tr>\n",
       "    <tr>\n",
       "      <th>8</th>\n",
       "      <td>4439</td>\n",
       "      <td>1515915625474219766</td>\n",
       "      <td>1515915625474219766-4439-628341212233a</td>\n",
       "      <td>click</td>\n",
       "      <td>email</td>\n",
       "      <td>2022-05-19</td>\n",
       "      <td>2022-05-19 01:24:16</td>\n",
       "    </tr>\n",
       "    <tr>\n",
       "      <th>9</th>\n",
       "      <td>4439</td>\n",
       "      <td>1515915625566741491</td>\n",
       "      <td>1515915625566741491-4439-6283412871599</td>\n",
       "      <td>open</td>\n",
       "      <td>email</td>\n",
       "      <td>2022-05-19</td>\n",
       "      <td>2022-05-19 01:31:06</td>\n",
       "    </tr>\n",
       "  </tbody>\n",
       "</table>\n",
       "</div>"
      ],
      "text/plain": [
       "   bulk_campaign_id            client_id  \\\n",
       "0              4439  1515915625626736623   \n",
       "1              4439  1515915625490086521   \n",
       "2              4439  1515915625553578558   \n",
       "3              4439  1515915625553578558   \n",
       "4              4439  1515915625471518311   \n",
       "5              4439  1515915625594606468   \n",
       "6              4439  1515915625491810918   \n",
       "7              4439  1515915625474219766   \n",
       "8              4439  1515915625474219766   \n",
       "9              4439  1515915625566741491   \n",
       "\n",
       "                               message_id  event channel       date  \\\n",
       "0  1515915625626736623-4439-6283415ac07ea   open   email 2022-05-19   \n",
       "1  1515915625490086521-4439-62834150016dd   open   email 2022-05-19   \n",
       "2  1515915625553578558-4439-6283415b36b4f   open   email 2022-05-19   \n",
       "3  1515915625553578558-4439-6283415b36b4f  click   email 2022-05-19   \n",
       "4  1515915625471518311-4439-628341570c133   open   email 2022-05-19   \n",
       "5  1515915625594606468-4439-6283411f277fc   open   email 2022-05-19   \n",
       "6  1515915625491810918-4439-6283411d9d299   open   email 2022-05-19   \n",
       "7  1515915625474219766-4439-628341212233a   open   email 2022-05-19   \n",
       "8  1515915625474219766-4439-628341212233a  click   email 2022-05-19   \n",
       "9  1515915625566741491-4439-6283412871599   open   email 2022-05-19   \n",
       "\n",
       "            created_at  \n",
       "0  2022-05-19 00:14:20  \n",
       "1  2022-05-19 00:39:34  \n",
       "2  2022-05-19 00:51:49  \n",
       "3  2022-05-19 00:52:20  \n",
       "4  2022-05-19 00:56:52  \n",
       "5  2022-05-19 01:04:11  \n",
       "6  2022-05-19 01:19:54  \n",
       "7  2022-05-19 01:23:43  \n",
       "8  2022-05-19 01:24:16  \n",
       "9  2022-05-19 01:31:06  "
      ]
     },
     "execution_count": 294,
     "metadata": {},
     "output_type": "execute_result"
    }
   ],
   "source": [
    "messages.head(10)"
   ]
  },
  {
   "cell_type": "markdown",
   "id": "a66628a5-7c08-4e52-a417-7bb1f507504c",
   "metadata": {},
   "source": [
    "Обратим внимание, что по одному и тому же клиенту может быть 2 строки с разницей только в действии с сообщением. Вероятно, данная таблица содержит все вариации событий, произошедших с рассылкой.\n",
    "\n",
    "Для целей текущего проекта нас потенциально интересуют следующие столбцы:\n",
    "- event - что именно клиент сделал с рассылкой в конечном итоге (т.е. финальное событие)\n",
    "- channel - по какому каналу клиент получил рассылку.\n",
    "\n",
    "Т.к. мы предполагаем, что возврат клиента происходит в том числе благодаря маркетинговым рассылкам. Так как нас интересует именно финальное событие (т.к. важен итог), то и в данные включим только последние строки. Кроме того, уберем неважный для нас столбец created_at"
   ]
  },
  {
   "cell_type": "code",
   "execution_count": 295,
   "id": "5566452e-52f2-4a6e-826d-ca0f98724cb8",
   "metadata": {},
   "outputs": [
    {
     "data": {
      "text/html": [
       "<div>\n",
       "<style scoped>\n",
       "    .dataframe tbody tr th:only-of-type {\n",
       "        vertical-align: middle;\n",
       "    }\n",
       "\n",
       "    .dataframe tbody tr th {\n",
       "        vertical-align: top;\n",
       "    }\n",
       "\n",
       "    .dataframe thead th {\n",
       "        text-align: right;\n",
       "    }\n",
       "</style>\n",
       "<table border=\"1\" class=\"dataframe\">\n",
       "  <thead>\n",
       "    <tr style=\"text-align: right;\">\n",
       "      <th></th>\n",
       "      <th>bulk_campaign_id</th>\n",
       "      <th>client_id</th>\n",
       "      <th>message_id</th>\n",
       "      <th>event</th>\n",
       "      <th>channel</th>\n",
       "      <th>date</th>\n",
       "    </tr>\n",
       "  </thead>\n",
       "  <tbody>\n",
       "    <tr>\n",
       "      <th>0</th>\n",
       "      <td>4439</td>\n",
       "      <td>1515915625626736623</td>\n",
       "      <td>1515915625626736623-4439-6283415ac07ea</td>\n",
       "      <td>open</td>\n",
       "      <td>email</td>\n",
       "      <td>2022-05-19</td>\n",
       "    </tr>\n",
       "    <tr>\n",
       "      <th>1</th>\n",
       "      <td>4439</td>\n",
       "      <td>1515915625490086521</td>\n",
       "      <td>1515915625490086521-4439-62834150016dd</td>\n",
       "      <td>open</td>\n",
       "      <td>email</td>\n",
       "      <td>2022-05-19</td>\n",
       "    </tr>\n",
       "    <tr>\n",
       "      <th>3</th>\n",
       "      <td>4439</td>\n",
       "      <td>1515915625553578558</td>\n",
       "      <td>1515915625553578558-4439-6283415b36b4f</td>\n",
       "      <td>click</td>\n",
       "      <td>email</td>\n",
       "      <td>2022-05-19</td>\n",
       "    </tr>\n",
       "    <tr>\n",
       "      <th>4</th>\n",
       "      <td>4439</td>\n",
       "      <td>1515915625471518311</td>\n",
       "      <td>1515915625471518311-4439-628341570c133</td>\n",
       "      <td>open</td>\n",
       "      <td>email</td>\n",
       "      <td>2022-05-19</td>\n",
       "    </tr>\n",
       "    <tr>\n",
       "      <th>5</th>\n",
       "      <td>4439</td>\n",
       "      <td>1515915625594606468</td>\n",
       "      <td>1515915625594606468-4439-6283411f277fc</td>\n",
       "      <td>open</td>\n",
       "      <td>email</td>\n",
       "      <td>2022-05-19</td>\n",
       "    </tr>\n",
       "  </tbody>\n",
       "</table>\n",
       "</div>"
      ],
      "text/plain": [
       "   bulk_campaign_id            client_id  \\\n",
       "0              4439  1515915625626736623   \n",
       "1              4439  1515915625490086521   \n",
       "3              4439  1515915625553578558   \n",
       "4              4439  1515915625471518311   \n",
       "5              4439  1515915625594606468   \n",
       "\n",
       "                               message_id  event channel       date  \n",
       "0  1515915625626736623-4439-6283415ac07ea   open   email 2022-05-19  \n",
       "1  1515915625490086521-4439-62834150016dd   open   email 2022-05-19  \n",
       "3  1515915625553578558-4439-6283415b36b4f  click   email 2022-05-19  \n",
       "4  1515915625471518311-4439-628341570c133   open   email 2022-05-19  \n",
       "5  1515915625594606468-4439-6283411f277fc   open   email 2022-05-19  "
      ]
     },
     "execution_count": 295,
     "metadata": {},
     "output_type": "execute_result"
    }
   ],
   "source": [
    "last = messages.groupby('message_id').tail(1)\n",
    "\n",
    "last = last.drop('created_at', axis=1)\n",
    "last.head()"
   ]
  },
  {
   "cell_type": "code",
   "execution_count": 296,
   "id": "c2d67b5b-387a-4443-9f41-8bc8b097024b",
   "metadata": {},
   "outputs": [
    {
     "data": {
      "text/html": [
       "<div>\n",
       "<style scoped>\n",
       "    .dataframe tbody tr th:only-of-type {\n",
       "        vertical-align: middle;\n",
       "    }\n",
       "\n",
       "    .dataframe tbody tr th {\n",
       "        vertical-align: top;\n",
       "    }\n",
       "\n",
       "    .dataframe thead th {\n",
       "        text-align: right;\n",
       "    }\n",
       "</style>\n",
       "<table border=\"1\" class=\"dataframe\">\n",
       "  <thead>\n",
       "    <tr style=\"text-align: right;\">\n",
       "      <th></th>\n",
       "      <th>message_id</th>\n",
       "      <th>event</th>\n",
       "      <th>channel</th>\n",
       "      <th>mess_date</th>\n",
       "    </tr>\n",
       "  </thead>\n",
       "  <tbody>\n",
       "    <tr>\n",
       "      <th>0</th>\n",
       "      <td>1515915625626736623-4439-6283415ac07ea</td>\n",
       "      <td>open</td>\n",
       "      <td>email</td>\n",
       "      <td>2022-05-19</td>\n",
       "    </tr>\n",
       "    <tr>\n",
       "      <th>1</th>\n",
       "      <td>1515915625490086521-4439-62834150016dd</td>\n",
       "      <td>open</td>\n",
       "      <td>email</td>\n",
       "      <td>2022-05-19</td>\n",
       "    </tr>\n",
       "    <tr>\n",
       "      <th>3</th>\n",
       "      <td>1515915625553578558-4439-6283415b36b4f</td>\n",
       "      <td>click</td>\n",
       "      <td>email</td>\n",
       "      <td>2022-05-19</td>\n",
       "    </tr>\n",
       "    <tr>\n",
       "      <th>4</th>\n",
       "      <td>1515915625471518311-4439-628341570c133</td>\n",
       "      <td>open</td>\n",
       "      <td>email</td>\n",
       "      <td>2022-05-19</td>\n",
       "    </tr>\n",
       "    <tr>\n",
       "      <th>5</th>\n",
       "      <td>1515915625594606468-4439-6283411f277fc</td>\n",
       "      <td>open</td>\n",
       "      <td>email</td>\n",
       "      <td>2022-05-19</td>\n",
       "    </tr>\n",
       "  </tbody>\n",
       "</table>\n",
       "</div>"
      ],
      "text/plain": [
       "                               message_id  event channel  mess_date\n",
       "0  1515915625626736623-4439-6283415ac07ea   open   email 2022-05-19\n",
       "1  1515915625490086521-4439-62834150016dd   open   email 2022-05-19\n",
       "3  1515915625553578558-4439-6283415b36b4f  click   email 2022-05-19\n",
       "4  1515915625471518311-4439-628341570c133   open   email 2022-05-19\n",
       "5  1515915625594606468-4439-6283411f277fc   open   email 2022-05-19"
      ]
     },
     "execution_count": 296,
     "metadata": {},
     "output_type": "execute_result"
    }
   ],
   "source": [
    "last = last.rename(columns={'date':'mess_date'}).drop(['bulk_campaign_id', 'client_id'], axis=1)\n",
    "last.head()"
   ]
  },
  {
   "cell_type": "code",
   "execution_count": 297,
   "id": "c903236a-713a-42fd-957e-05e63619d630",
   "metadata": {},
   "outputs": [
    {
     "data": {
      "text/html": [
       "<div>\n",
       "<style scoped>\n",
       "    .dataframe tbody tr th:only-of-type {\n",
       "        vertical-align: middle;\n",
       "    }\n",
       "\n",
       "    .dataframe tbody tr th {\n",
       "        vertical-align: top;\n",
       "    }\n",
       "\n",
       "    .dataframe thead th {\n",
       "        text-align: right;\n",
       "    }\n",
       "</style>\n",
       "<table border=\"1\" class=\"dataframe\">\n",
       "  <thead>\n",
       "    <tr style=\"text-align: right;\">\n",
       "      <th></th>\n",
       "      <th>client_id</th>\n",
       "      <th>quantity</th>\n",
       "      <th>category_ids</th>\n",
       "      <th>date</th>\n",
       "      <th>message_id</th>\n",
       "      <th>total</th>\n",
       "      <th>target</th>\n",
       "      <th>event</th>\n",
       "      <th>channel</th>\n",
       "      <th>mess_date</th>\n",
       "    </tr>\n",
       "  </thead>\n",
       "  <tbody>\n",
       "    <tr>\n",
       "      <th>0</th>\n",
       "      <td>1515915625468169594</td>\n",
       "      <td>1</td>\n",
       "      <td>4</td>\n",
       "      <td>2022-05-16</td>\n",
       "      <td>1515915625468169594-4301-627b661e9736d</td>\n",
       "      <td>1999.0</td>\n",
       "      <td>0</td>\n",
       "      <td>NaN</td>\n",
       "      <td>NaN</td>\n",
       "      <td>NaT</td>\n",
       "    </tr>\n",
       "    <tr>\n",
       "      <th>1</th>\n",
       "      <td>1515915625468169594</td>\n",
       "      <td>1</td>\n",
       "      <td>28</td>\n",
       "      <td>2022-05-16</td>\n",
       "      <td>1515915625468169594-4301-627b661e9736d</td>\n",
       "      <td>1999.0</td>\n",
       "      <td>0</td>\n",
       "      <td>NaN</td>\n",
       "      <td>NaN</td>\n",
       "      <td>NaT</td>\n",
       "    </tr>\n",
       "    <tr>\n",
       "      <th>2</th>\n",
       "      <td>1515915625468169594</td>\n",
       "      <td>1</td>\n",
       "      <td>57</td>\n",
       "      <td>2022-05-16</td>\n",
       "      <td>1515915625468169594-4301-627b661e9736d</td>\n",
       "      <td>1999.0</td>\n",
       "      <td>0</td>\n",
       "      <td>NaN</td>\n",
       "      <td>NaN</td>\n",
       "      <td>NaT</td>\n",
       "    </tr>\n",
       "    <tr>\n",
       "      <th>3</th>\n",
       "      <td>1515915625468169594</td>\n",
       "      <td>1</td>\n",
       "      <td>431</td>\n",
       "      <td>2022-05-16</td>\n",
       "      <td>1515915625468169594-4301-627b661e9736d</td>\n",
       "      <td>1999.0</td>\n",
       "      <td>0</td>\n",
       "      <td>NaN</td>\n",
       "      <td>NaN</td>\n",
       "      <td>NaT</td>\n",
       "    </tr>\n",
       "    <tr>\n",
       "      <th>4</th>\n",
       "      <td>1515915625468169594</td>\n",
       "      <td>1</td>\n",
       "      <td>4</td>\n",
       "      <td>2022-05-16</td>\n",
       "      <td>1515915625468169594-4301-627b661e9736d</td>\n",
       "      <td>2499.0</td>\n",
       "      <td>0</td>\n",
       "      <td>NaN</td>\n",
       "      <td>NaN</td>\n",
       "      <td>NaT</td>\n",
       "    </tr>\n",
       "    <tr>\n",
       "      <th>5</th>\n",
       "      <td>1515915625468169594</td>\n",
       "      <td>1</td>\n",
       "      <td>28</td>\n",
       "      <td>2022-05-16</td>\n",
       "      <td>1515915625468169594-4301-627b661e9736d</td>\n",
       "      <td>2499.0</td>\n",
       "      <td>0</td>\n",
       "      <td>NaN</td>\n",
       "      <td>NaN</td>\n",
       "      <td>NaT</td>\n",
       "    </tr>\n",
       "    <tr>\n",
       "      <th>6</th>\n",
       "      <td>1515915625468169594</td>\n",
       "      <td>1</td>\n",
       "      <td>57</td>\n",
       "      <td>2022-05-16</td>\n",
       "      <td>1515915625468169594-4301-627b661e9736d</td>\n",
       "      <td>2499.0</td>\n",
       "      <td>0</td>\n",
       "      <td>NaN</td>\n",
       "      <td>NaN</td>\n",
       "      <td>NaT</td>\n",
       "    </tr>\n",
       "    <tr>\n",
       "      <th>7</th>\n",
       "      <td>1515915625468169594</td>\n",
       "      <td>1</td>\n",
       "      <td>431</td>\n",
       "      <td>2022-05-16</td>\n",
       "      <td>1515915625468169594-4301-627b661e9736d</td>\n",
       "      <td>2499.0</td>\n",
       "      <td>0</td>\n",
       "      <td>NaN</td>\n",
       "      <td>NaN</td>\n",
       "      <td>NaT</td>\n",
       "    </tr>\n",
       "    <tr>\n",
       "      <th>8</th>\n",
       "      <td>1515915625471138230</td>\n",
       "      <td>1</td>\n",
       "      <td>4</td>\n",
       "      <td>2022-05-16</td>\n",
       "      <td>1515915625471138230-4437-6282242f27843</td>\n",
       "      <td>6499.0</td>\n",
       "      <td>0</td>\n",
       "      <td>NaN</td>\n",
       "      <td>NaN</td>\n",
       "      <td>NaT</td>\n",
       "    </tr>\n",
       "    <tr>\n",
       "      <th>9</th>\n",
       "      <td>1515915625471138230</td>\n",
       "      <td>1</td>\n",
       "      <td>28</td>\n",
       "      <td>2022-05-16</td>\n",
       "      <td>1515915625471138230-4437-6282242f27843</td>\n",
       "      <td>6499.0</td>\n",
       "      <td>0</td>\n",
       "      <td>NaN</td>\n",
       "      <td>NaN</td>\n",
       "      <td>NaT</td>\n",
       "    </tr>\n",
       "  </tbody>\n",
       "</table>\n",
       "</div>"
      ],
      "text/plain": [
       "             client_id  quantity category_ids       date  \\\n",
       "0  1515915625468169594         1            4 2022-05-16   \n",
       "1  1515915625468169594         1           28 2022-05-16   \n",
       "2  1515915625468169594         1           57 2022-05-16   \n",
       "3  1515915625468169594         1          431 2022-05-16   \n",
       "4  1515915625468169594         1            4 2022-05-16   \n",
       "5  1515915625468169594         1           28 2022-05-16   \n",
       "6  1515915625468169594         1           57 2022-05-16   \n",
       "7  1515915625468169594         1          431 2022-05-16   \n",
       "8  1515915625471138230         1            4 2022-05-16   \n",
       "9  1515915625471138230         1           28 2022-05-16   \n",
       "\n",
       "                               message_id   total  target event channel  \\\n",
       "0  1515915625468169594-4301-627b661e9736d  1999.0       0   NaN     NaN   \n",
       "1  1515915625468169594-4301-627b661e9736d  1999.0       0   NaN     NaN   \n",
       "2  1515915625468169594-4301-627b661e9736d  1999.0       0   NaN     NaN   \n",
       "3  1515915625468169594-4301-627b661e9736d  1999.0       0   NaN     NaN   \n",
       "4  1515915625468169594-4301-627b661e9736d  2499.0       0   NaN     NaN   \n",
       "5  1515915625468169594-4301-627b661e9736d  2499.0       0   NaN     NaN   \n",
       "6  1515915625468169594-4301-627b661e9736d  2499.0       0   NaN     NaN   \n",
       "7  1515915625468169594-4301-627b661e9736d  2499.0       0   NaN     NaN   \n",
       "8  1515915625471138230-4437-6282242f27843  6499.0       0   NaN     NaN   \n",
       "9  1515915625471138230-4437-6282242f27843  6499.0       0   NaN     NaN   \n",
       "\n",
       "  mess_date  \n",
       "0       NaT  \n",
       "1       NaT  \n",
       "2       NaT  \n",
       "3       NaT  \n",
       "4       NaT  \n",
       "5       NaT  \n",
       "6       NaT  \n",
       "7       NaT  \n",
       "8       NaT  \n",
       "9       NaT  "
      ]
     },
     "execution_count": 297,
     "metadata": {},
     "output_type": "execute_result"
    }
   ],
   "source": [
    "#Объединяет данные\n",
    "df = df.merge(last, on ='message_id', how='left')\n",
    "df.head(10)"
   ]
  },
  {
   "cell_type": "markdown",
   "id": "3f14b3c0-f69e-4c8e-87fb-fb71bf4b00b8",
   "metadata": {},
   "source": [
    "Обратим внимание, что часть клиентов не получала рекламных сообщений, поэтому получены значения NaN и NaT.\n",
    "\n",
    "Заменим их общим значением."
   ]
  },
  {
   "cell_type": "code",
   "execution_count": 298,
   "id": "70c5cfd1-a5d6-4356-80e7-c20849f072c9",
   "metadata": {},
   "outputs": [],
   "source": [
    "df['event'] = df['event'].fillna('No')\n",
    "df['channel'] = df['channel'].fillna('No')\n",
    "\n",
    "#Пропуски в столбце дата заполним дефолтной датой\n",
    "rep_date = pd.Timestamp('1900-01-01')\n",
    "df['mess_date'] = df['mess_date'].fillna(rep_date)"
   ]
  },
  {
   "cell_type": "code",
   "execution_count": 299,
   "id": "14565d2c-26fc-40f8-bd58-cc0d95e13d2f",
   "metadata": {},
   "outputs": [
    {
     "name": "stdout",
     "output_type": "stream",
     "text": [
      "<class 'pandas.core.frame.DataFrame'>\n",
      "RangeIndex: 809350 entries, 0 to 809349\n",
      "Data columns (total 10 columns):\n",
      " #   Column        Non-Null Count   Dtype         \n",
      "---  ------        --------------   -----         \n",
      " 0   client_id     809350 non-null  int64         \n",
      " 1   quantity      809350 non-null  int64         \n",
      " 2   category_ids  809350 non-null  object        \n",
      " 3   date          809350 non-null  datetime64[ns]\n",
      " 4   message_id    809350 non-null  object        \n",
      " 5   total         809350 non-null  float64       \n",
      " 6   target        809350 non-null  int64         \n",
      " 7   event         809350 non-null  object        \n",
      " 8   channel       809350 non-null  object        \n",
      " 9   mess_date     809350 non-null  datetime64[ns]\n",
      "dtypes: datetime64[ns](2), float64(1), int64(3), object(4)\n",
      "memory usage: 61.7+ MB\n"
     ]
    }
   ],
   "source": [
    "#Перепроверим, что данные не утеряны\n",
    "df.info()"
   ]
  },
  {
   "cell_type": "markdown",
   "id": "59382429-65df-460b-a25f-4dc6b1e29ae8",
   "metadata": {},
   "source": [
    "## Проверка данных на мультиколлинеарность"
   ]
  },
  {
   "cell_type": "markdown",
   "id": "6f53fe30-851e-4c0f-836e-3c5fc2575339",
   "metadata": {},
   "source": [
    "Перепроверим, что, с учетом новых данных, мультиколлинеарность отсутствует."
   ]
  },
  {
   "cell_type": "code",
   "execution_count": 300,
   "id": "bea3fd4e-2baf-47ad-a7fe-c827ea7621f7",
   "metadata": {},
   "outputs": [
    {
     "name": "stderr",
     "output_type": "stream",
     "text": [
      "C:\\Users\\Daria\\AppData\\Local\\Programs\\Python\\Python312\\Lib\\site-packages\\phik\\data_quality.py:59: UserWarning: The number of unique values of variable category_ids is large: 1152. Are you sure this is not an interval variable? Analysis for pairs of variables including category_ids can be slow.\n",
      "  warnings.warn(\n"
     ]
    },
    {
     "data": {
      "image/png": "[encoded data removed]",
      "text/plain": [
       "<Figure size 1000x800 with 2 Axes>"
      ]
     },
     "metadata": {},
     "output_type": "display_data"
    }
   ],
   "source": [
    "interval_cols = ['quantity', 'price', 'total']\n",
    "\n",
    "phik_overview = df.drop(['client_id', 'message_id'], axis=1).phik_matrix(interval_cols=interval_cols)\n",
    "\n",
    "plot_correlation_matrix(\n",
    "    phik_overview.values,\n",
    "    x_labels=phik_overview.columns,\n",
    "    y_labels=phik_overview.index,\n",
    "    title=r\"Корреляция в ДС df $\\phi_K$\",\n",
    "    fontsize_factor=1.5,\n",
    "    figsize=(10, 8))"
   ]
  },
  {
   "cell_type": "markdown",
   "id": "b5e4f4be-2d68-4f40-a978-8ba5216d633d",
   "metadata": {},
   "source": [
    "Отметим, что столбцы date и mess_date имеют максимальную корреляцию между собой. Вероятно, это связано с тем, что полученные рекламные сообщения действительно продуктивно влияют на то, перейдут ли клиенты на сайт и сделают ли покупку. Кроме того, mess_date имеет мультиколлинеарную связь с каналами расссылки, что, вероятно, связано с тем, что разные маркетинговые активности проводятся массово, но в разные дни.\n",
    "\n",
    "Удалим столбец и оценим данные на мультиколлинеарность еще раз."
   ]
  },
  {
   "cell_type": "code",
   "execution_count": 301,
   "id": "f5398fc5-4027-476b-aaad-841026fa0f6c",
   "metadata": {},
   "outputs": [
    {
     "name": "stderr",
     "output_type": "stream",
     "text": [
      "C:\\Users\\Daria\\AppData\\Local\\Programs\\Python\\Python312\\Lib\\site-packages\\phik\\data_quality.py:59: UserWarning: The number of unique values of variable category_ids is large: 1152. Are you sure this is not an interval variable? Analysis for pairs of variables including category_ids can be slow.\n",
      "  warnings.warn(\n"
     ]
    },
    {
     "data": {
      "image/png": "[encoded data removed]",
      "text/plain": [
       "<Figure size 1000x800 with 2 Axes>"
      ]
     },
     "metadata": {},
     "output_type": "display_data"
    }
   ],
   "source": [
    "interval_cols = ['quantity', 'price', 'total']\n",
    "\n",
    "phik_overview = df.drop(['client_id', 'message_id', 'mess_date'], axis=1).phik_matrix(interval_cols=interval_cols)\n",
    "\n",
    "plot_correlation_matrix(\n",
    "    phik_overview.values,\n",
    "    x_labels=phik_overview.columns,\n",
    "    y_labels=phik_overview.index,\n",
    "    title=r\"Корреляция в ДС df $\\phi_K$\",\n",
    "    fontsize_factor=1.5,\n",
    "    figsize=(10, 8))"
   ]
  },
  {
   "cell_type": "markdown",
   "id": "6cfabd6b-f991-4eb4-b190-5d975798221b",
   "metadata": {},
   "source": [
    "Традиционно принято считать, что значения выше 0,9 по модулю свидетельствуют о наличии мультиколлинеарности. Обратим внимание, что столбец date демонстрирует сильную линейную зависимость сразу с несколькими другими столбцами, при этом со столбцом channel эта связь недопустимо высокая.\n",
    "\n",
    "Отметим, что при этом date имеет большую корреляцию с целевым показателем, чем channel.\n",
    "\n",
    "Устраним мультиколлинеарность удалением одного из столбцов, однако сделаем это в разных датафреймах. А после дополнительно сравним, какая из моделей покажет себя лучше по метрике."
   ]
  },
  {
   "cell_type": "code",
   "execution_count": 309,
   "id": "83f59180-4c1f-44f0-b5a7-a31de1e46cf8",
   "metadata": {},
   "outputs": [],
   "source": [
    "df_c = df.drop(['date', 'mess_date'], axis=1)\n",
    "df_d = df.drop(['channel', 'mess_date'], axis=1)"
   ]
  },
  {
   "cell_type": "markdown",
   "id": "b198da21-ea4c-472f-9e54-a648c55a2194",
   "metadata": {},
   "source": [
    "# Разработка модели, 2 версия"
   ]
  },
  {
   "cell_type": "markdown",
   "id": "5cb4d3a0-b2db-4ebf-9cf5-0a513966f5ae",
   "metadata": {},
   "source": [
    "Сначала обучим и оценим модель на данных из дф df_c (без даты)"
   ]
  },
  {
   "cell_type": "code",
   "execution_count": 310,
   "id": "2235eb70-d077-4786-b052-235d73f8b362",
   "metadata": {},
   "outputs": [],
   "source": [
    "X_c = df_c.drop(['client_id', 'message_id', 'target'], axis=1)\n",
    "y_c = df_c['target']\n",
    "\n",
    "X_train_c, X_test_c, y_train_c, y_test_c = train_test_split(\n",
    "    X_c,\n",
    "    y_c,\n",
    "    test_size=0.25, random_state = RANDOM_STATE)"
   ]
  },
  {
   "cell_type": "code",
   "execution_count": 314,
   "id": "a78bb050-d828-4fdc-a1ea-e4fc6493c72e",
   "metadata": {},
   "outputs": [
    {
     "name": "stdout",
     "output_type": "stream",
     "text": [
      "Learning rate set to 0.5\n",
      "0:\tlearn: 0.3632010\ttotal: 73ms\tremaining: 3.58s\n",
      "10:\tlearn: 0.1448178\ttotal: 655ms\tremaining: 2.32s\n",
      "20:\tlearn: 0.1437456\ttotal: 1.38s\tremaining: 1.9s\n",
      "30:\tlearn: 0.1432808\ttotal: 2.13s\tremaining: 1.31s\n",
      "40:\tlearn: 0.1425366\ttotal: 2.88s\tremaining: 633ms\n",
      "49:\tlearn: 0.1422215\ttotal: 3.56s\tremaining: 0us\n"
     ]
    },
    {
     "data": {
      "text/plain": [
       "<catboost.core.CatBoostClassifier at 0x254a08032c0>"
      ]
     },
     "execution_count": 314,
     "metadata": {},
     "output_type": "execute_result"
    }
   ],
   "source": [
    "cat_features_c = ['category_ids', 'event', 'channel']\n",
    "\n",
    "model_c = CatBoostClassifier(loss_function='Logloss', iterations=50)\n",
    "\n",
    "model_c.fit(X_train_c, y_train_c, cat_features=cat_features_c, verbose=10)"
   ]
  },
  {
   "cell_type": "code",
   "execution_count": 316,
   "id": "e532ab9a-e047-4035-8dec-f3f3ba0a9354",
   "metadata": {},
   "outputs": [
    {
     "name": "stdout",
     "output_type": "stream",
     "text": [
      "0.6435414904939858\n"
     ]
    }
   ],
   "source": [
    "prob_c = model_c.predict_proba(X_test_c)\n",
    "prob_one_c = prob_c[:, 1]\n",
    "\n",
    "print(roc_auc_score(y_test_c, prob_one_c))"
   ]
  },
  {
   "cell_type": "markdown",
   "id": "8af84b62-7261-4b68-a874-76cf5a22cad4",
   "metadata": {},
   "source": [
    "Теперь на данных без канала рассылки"
   ]
  },
  {
   "cell_type": "code",
   "execution_count": 317,
   "id": "8333d2c3-fbcc-4a34-ae9d-831248a14fb4",
   "metadata": {},
   "outputs": [],
   "source": [
    "X_d = df_d.drop(['client_id', 'message_id', 'target'], axis=1)\n",
    "y_d = df_d['target']\n",
    "\n",
    "X_train_d, X_test_d, y_train_d, y_test_d = train_test_split(\n",
    "    X_d,\n",
    "    y_d,\n",
    "    test_size=0.25, random_state = RANDOM_STATE)"
   ]
  },
  {
   "cell_type": "code",
   "execution_count": 319,
   "id": "9b4bdc72-4288-41db-b2f0-fc8871ac5455",
   "metadata": {},
   "outputs": [
    {
     "name": "stdout",
     "output_type": "stream",
     "text": [
      "Learning rate set to 0.5\n",
      "0:\tlearn: 0.3630861\ttotal: 93.5ms\tremaining: 4.58s\n",
      "10:\tlearn: 0.1421388\ttotal: 783ms\tremaining: 2.78s\n",
      "20:\tlearn: 0.1395631\ttotal: 1.48s\tremaining: 2.04s\n",
      "30:\tlearn: 0.1379077\ttotal: 2.17s\tremaining: 1.33s\n",
      "40:\tlearn: 0.1357447\ttotal: 2.87s\tremaining: 631ms\n",
      "49:\tlearn: 0.1347489\ttotal: 3.49s\tremaining: 0us\n"
     ]
    },
    {
     "data": {
      "text/plain": [
       "<catboost.core.CatBoostClassifier at 0x2549c7c6780>"
      ]
     },
     "execution_count": 319,
     "metadata": {},
     "output_type": "execute_result"
    }
   ],
   "source": [
    "cat_features_d = ['category_ids', 'event']\n",
    "\n",
    "model_d = CatBoostClassifier(loss_function='Logloss', iterations=50)\n",
    "\n",
    "model_d.fit(X_train_d, y_train_d, cat_features=cat_features_d, verbose=10)"
   ]
  },
  {
   "cell_type": "code",
   "execution_count": 320,
   "id": "ef6c537c-574d-4081-aee6-57caffff79d6",
   "metadata": {},
   "outputs": [
    {
     "name": "stdout",
     "output_type": "stream",
     "text": [
      "0.6991980518792715\n"
     ]
    }
   ],
   "source": [
    "prob_d = model_d.predict_proba(X_test_d)\n",
    "prob_one_d = prob_d[:, 1]\n",
    "\n",
    "print(roc_auc_score(y_test_d, prob_one_d))"
   ]
  },
  {
   "cell_type": "markdown",
   "id": "8218ebf6-0b06-4843-b348-fd50606f1cbf",
   "metadata": {},
   "source": [
    "За счет добавления данных о действии с рассылкой и сохранением даты удалось улучшить работу модели на 0,64%.\n",
    "\n",
    "Это наилучший результат из трех моделей, однако попробуем его улучшить корректировкой гиперпараметров модели. Увеличим максимальное количество построенных деревьев вдвое."
   ]
  },
  {
   "cell_type": "code",
   "execution_count": 323,
   "id": "c63f75c6-f91a-4557-b19d-ef8bad059513",
   "metadata": {},
   "outputs": [
    {
     "name": "stdout",
     "output_type": "stream",
     "text": [
      "Learning rate set to 0.5\n",
      "0:\tlearn: 0.3630861\ttotal: 73.6ms\tremaining: 7.29s\n",
      "10:\tlearn: 0.1421388\ttotal: 778ms\tremaining: 6.29s\n",
      "20:\tlearn: 0.1395631\ttotal: 1.44s\tremaining: 5.42s\n",
      "30:\tlearn: 0.1379077\ttotal: 2.1s\tremaining: 4.68s\n",
      "40:\tlearn: 0.1357447\ttotal: 2.77s\tremaining: 3.98s\n",
      "50:\tlearn: 0.1347098\ttotal: 3.42s\tremaining: 3.28s\n",
      "60:\tlearn: 0.1331026\ttotal: 4.08s\tremaining: 2.61s\n",
      "70:\tlearn: 0.1317877\ttotal: 4.75s\tremaining: 1.94s\n",
      "80:\tlearn: 0.1306207\ttotal: 5.4s\tremaining: 1.27s\n",
      "90:\tlearn: 0.1297628\ttotal: 6.07s\tremaining: 600ms\n",
      "99:\tlearn: 0.1291712\ttotal: 6.69s\tremaining: 0us\n",
      "0.7367479787521362\n"
     ]
    }
   ],
   "source": [
    "model_d = CatBoostClassifier(loss_function='Logloss', iterations=100)\n",
    "\n",
    "model_d.fit(X_train_d, y_train_d, cat_features=cat_features_d, verbose=10)\n",
    "\n",
    "prob_d = model_d.predict_proba(X_test_d)\n",
    "prob_one_d = prob_d[:, 1]\n",
    "\n",
    "print(roc_auc_score(y_test_d, prob_one_d))"
   ]
  },
  {
   "cell_type": "markdown",
   "id": "6fc0cb24-885a-45e6-9a14-def110dd9b75",
   "metadata": {},
   "source": [
    "Это дало прибавку в 3,75% к предыдущему лучшему результату. Так как модель все еще обучается быстро, то увеличим параметр iterations еще вдвое."
   ]
  },
  {
   "cell_type": "code",
   "execution_count": 324,
   "id": "4c9bf135-d5c9-4afc-90d2-83b5092a252b",
   "metadata": {},
   "outputs": [
    {
     "name": "stdout",
     "output_type": "stream",
     "text": [
      "Learning rate set to 0.5\n",
      "0:\tlearn: 0.2265108\ttotal: 106ms\tremaining: 21.2s\n",
      "10:\tlearn: 0.1392682\ttotal: 1.82s\tremaining: 31.3s\n",
      "20:\tlearn: 0.1373218\ttotal: 3.56s\tremaining: 30.3s\n",
      "30:\tlearn: 0.1355203\ttotal: 5.33s\tremaining: 29s\n",
      "40:\tlearn: 0.1335581\ttotal: 7.23s\tremaining: 28.1s\n",
      "50:\tlearn: 0.1319708\ttotal: 9.14s\tremaining: 26.7s\n",
      "60:\tlearn: 0.1302709\ttotal: 11s\tremaining: 25s\n",
      "70:\tlearn: 0.1291383\ttotal: 12.9s\tremaining: 23.4s\n",
      "80:\tlearn: 0.1278643\ttotal: 14.7s\tremaining: 21.6s\n",
      "90:\tlearn: 0.1267666\ttotal: 16.5s\tremaining: 19.8s\n",
      "100:\tlearn: 0.1256398\ttotal: 18.4s\tremaining: 18.1s\n",
      "110:\tlearn: 0.1247885\ttotal: 20.2s\tremaining: 16.2s\n",
      "120:\tlearn: 0.1235166\ttotal: 22.1s\tremaining: 14.4s\n",
      "130:\tlearn: 0.1221377\ttotal: 24s\tremaining: 12.7s\n",
      "140:\tlearn: 0.1212975\ttotal: 26s\tremaining: 10.9s\n",
      "150:\tlearn: 0.1205447\ttotal: 28.1s\tremaining: 9.13s\n",
      "160:\tlearn: 0.1198785\ttotal: 30s\tremaining: 7.27s\n",
      "170:\tlearn: 0.1188473\ttotal: 31.9s\tremaining: 5.42s\n",
      "180:\tlearn: 0.1183772\ttotal: 33.7s\tremaining: 3.54s\n",
      "190:\tlearn: 0.1173537\ttotal: 35.6s\tremaining: 1.68s\n",
      "199:\tlearn: 0.1165822\ttotal: 37.5s\tremaining: 0us\n",
      "0.8028237483213113\n"
     ]
    }
   ],
   "source": [
    "model_d = CatBoostClassifier(loss_function='Logloss', iterations=200)\n",
    "\n",
    "model_d.fit(X_train_d, y_train_d, cat_features=cat_features_d, verbose=10)\n",
    "\n",
    "prob_d = model_d.predict_proba(X_test_d)\n",
    "prob_one_d = prob_d[:, 1]\n",
    "\n",
    "print(roc_auc_score(y_test_d, prob_one_d))"
   ]
  },
  {
   "cell_type": "markdown",
   "id": "8135274d-29ad-4828-a856-56fcda2efe8f",
   "metadata": {},
   "source": [
    "Теперь время обучения остается в рамках одной минуты, допустимо быстро, при этом точность возрасла еще на 6,61%. \n",
    "Получаем достаточно высокое значение метрики качества при сохранении относительно высокой скорости обучения."
   ]
  },
  {
   "cell_type": "markdown",
   "id": "4217d86c-2a11-455a-9444-13ba0a36db41",
   "metadata": {},
   "source": [
    "# Оценка значимости признаков"
   ]
  },
  {
   "cell_type": "markdown",
   "id": "c214d0cb-c178-4284-8518-04fdbea42baa",
   "metadata": {},
   "source": [
    "Оценим важность признаков для лучшей модели, построим график важности и рассмотрим его детально."
   ]
  },
  {
   "cell_type": "code",
   "execution_count": 330,
   "id": "f359c936-b6fd-4325-9c18-c2735710b150",
   "metadata": {},
   "outputs": [
    {
     "data": {
      "image/png": "[encoded data removed]",
      "text/plain": [
       "<Figure size 1200x600 with 1 Axes>"
      ]
     },
     "metadata": {},
     "output_type": "display_data"
    }
   ],
   "source": [
    "feature_importances = pd.DataFrame(\n",
    "    {\n",
    "        'Feature': X_d.columns,\n",
    "        'Importance': model_d.get_feature_importance()\n",
    "    }).sort_values('Importance', ascending=False)\n",
    "\n",
    "plt.figure(figsize=(12, 6))\n",
    "\n",
    "ax = sns.barplot(\n",
    "    x='Importance',\n",
    "    y='Feature',\n",
    "    data=feature_importances\n",
    ")\n",
    "\n",
    "\n",
    "ax.set_title('Важность признаков', fontsize=16)\n",
    "ax.set_xlabel('Важность (доля)', fontsize=14)\n",
    "ax.set_ylabel('Признак', fontsize=14)\n",
    "\n",
    "plt.show()"
   ]
  },
  {
   "cell_type": "markdown",
   "id": "b0bd632c-7ac8-4399-abe9-8a922cebe246",
   "metadata": {},
   "source": [
    "Отметим, что достаточно ожидаемо наибольшую важность среди признаком имеет date (как отмечали ранее, ряд других данных имеют прямую линейную зависимость от даты).\n",
    "\n",
    "Наименьшую же важность имеет количество купленных товаров, что также объяснимо: так как большинство клиентво приобретают что-то в единичном количестве, то разброс данных незначителен, соответственно признак не может быть очень значимым."
   ]
  },
  {
   "cell_type": "markdown",
   "id": "a28d966c-1d50-4d6e-9628-d2cade15c326",
   "metadata": {},
   "source": [
    "# Вывод"
   ]
  },
  {
   "cell_type": "markdown",
   "id": "e9e984a2-a02d-4a86-acf1-f0ca144db0bf",
   "metadata": {},
   "source": [
    "По итогу проведенного анализа удалось установить следующее:\n",
    "\n",
    "Общая информация:\n",
    "- Интернет-магазин демонстрирует рост в товарообороте и выручке (в сравнении данных за 2023 и 2022 года), однако количество уникальных пользователей сокращается.\n",
    "- Не все клиенты из числа совершивших покупки получали рекламные рассылки.\n",
    "\n",
    "Дата:\n",
    "- Дата покупки имеет большое влияние и, в том числе, может повлиять на то, совершит ли клиент повторную покупку в течение 90 дней или нет.\n",
    "- Вероятно, с учетом выявленной значительной разницы на товары одной и той же категории, это может быть связано с сезонными акциями или индивидуальными предпложениями.\n",
    "- Так как дата покупки имеет сильную линейную взаимосвязь с датой маркетинговой активности, стоит обратить внимание на даты и время проведения рассылок для достижения наиболее оптимального результата."
   ]
  },
  {
   "cell_type": "code",
   "execution_count": null,
   "id": "8529ae52-814b-474e-b307-11213417e3ae",
   "metadata": {},
   "outputs": [],
   "source": []
  }
 ],
 "metadata": {
  "kernelspec": {
   "display_name": "Python 3 (ipykernel)",
   "language": "python",
   "name": "python3"
  },
  "language_info": {
   "codemirror_mode": {
    "name": "ipython",
    "version": 3
   },
   "file_extension": ".py",
   "mimetype": "text/x-python",
   "name": "python",
   "nbconvert_exporter": "python",
   "pygments_lexer": "ipython3",
   "version": "3.12.5"
  }
 },
 "nbformat": 4,
 "nbformat_minor": 5
}
